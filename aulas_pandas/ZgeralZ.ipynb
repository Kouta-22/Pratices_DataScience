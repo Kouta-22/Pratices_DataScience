{
 "cells": [
  {
   "cell_type": "code",
   "execution_count": null,
   "metadata": {},
   "outputs": [],
   "source": []
  },
  {
   "cell_type": "markdown",
   "metadata": {},
   "source": [
    "# DataFrama & DataSet\n",
    "- **Dataframe**: é um conjuto de dados estruturados bidimensional, semelhante a uma tabela de banco de dados onde os dados são alinhados de forma tabular linha x coluna. Cada coluna em um DataFrame representa uma variável e cada linha contem um conjunto de valores para cada coluna\n",
    "- **DataSet**: é um termo mais geral que se refere a qualquer coleção de dados. \n",
    "\n",
    "# Resumo\n",
    "- Um DataFrame é um tipo de dataset, mas nem todo dataset é um DataFrame. Por exemplo, um dataset pode existir em um formato não estruturado, como um conjunto de imagens ou documentos de texto."
   ]
  },
  {
   "cell_type": "markdown",
   "metadata": {},
   "source": []
  },
  {
   "cell_type": "markdown",
   "metadata": {},
   "source": [
    "# UTILS Plot\n",
    "- O parâmetro kind='bar' indica que queremos criar um gráfico de barras.\n",
    "\n",
    "- O parâmetro width=1.0 especifica a largura das barras no gráfico de barras. Aqui, as barras terão uma largura de 1.0.\n",
    "\n",
    "- O parâmetro 'color=['RED'] especifica as cores das barras no grafico. podendo ser mais de uma cor e cada cor corresponde a uma condição diferente\n",
    "\n",
    "- O parâmetro 'title='Titulo' define o titulo do grafico\n",
    "\n",
    "- O parâmetro 'grind=False' controla a exibição das linhas de grade no grafico (True para habilitado)\n",
    "\n"
   ]
  },
  {
   "cell_type": "markdown",
   "metadata": {},
   "source": [
    "# UTILS Excel\n",
    "- Usar o pandas para manipular planilhas excel e até mesmo gerar novas planilhas a partir de outros dados\n",
    "- EXEMPLO || planilha = pd.read_excel(\"caminho para planilha\", sheetname=\"nome da aba da planilha que ira usar\", header= \"começo da planilha\")\n",
    "- NOTA || Você pode usar o comando index_col() para dizer qual coluna vai ser o index da planilha\n",
    "- O parâmetro 'to_excel('nome_do_arquivo.xlsx')' è usado para escrever os dados de um DataFrame para um arquivo excel"
   ]
  },
  {
   "cell_type": "markdown",
   "metadata": {},
   "source": []
  }
 ],
 "metadata": {
  "language_info": {
   "name": "python"
  }
 },
 "nbformat": 4,
 "nbformat_minor": 2
}
