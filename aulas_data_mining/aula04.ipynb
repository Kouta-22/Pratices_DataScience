{
 "cells": [
  {
   "cell_type": "markdown",
   "metadata": {},
   "source": [
    "# Similaridade de Strings \n",
    "- Data cleaning\n",
    "- Correção de digitação \n",
    "- Tradução de idiomas\n",
    "\n",
    "\n",
    "\n",
    "\n"
   ]
  },
  {
   "cell_type": "code",
   "execution_count": 2,
   "metadata": {},
   "outputs": [
    {
     "name": "stdout",
     "output_type": "stream",
     "text": [
      "Collecting fuzzywuzzy\n",
      "  Downloading fuzzywuzzy-0.18.0-py2.py3-none-any.whl.metadata (4.9 kB)\n",
      "Downloading fuzzywuzzy-0.18.0-py2.py3-none-any.whl (18 kB)\n",
      "Installing collected packages: fuzzywuzzy\n",
      "Successfully installed fuzzywuzzy-0.18.0\n"
     ]
    }
   ],
   "source": [
    "!pip install fuzzywuzzy"
   ]
  },
  {
   "cell_type": "code",
   "execution_count": 3,
   "metadata": {},
   "outputs": [
    {
     "name": "stdout",
     "output_type": "stream",
     "text": [
      "Requirement already satisfied: fuzzywuzzy[speedup] in c:\\users\\guilherme\\anaconda3\\lib\\site-packages (0.18.0)\n",
      "Collecting python-levenshtein>=0.12 (from fuzzywuzzy[speedup])\n",
      "  Downloading python_Levenshtein-0.25.1-py3-none-any.whl.metadata (3.7 kB)\n",
      "Collecting Levenshtein==0.25.1 (from python-levenshtein>=0.12->fuzzywuzzy[speedup])\n",
      "  Downloading Levenshtein-0.25.1-cp311-cp311-win_amd64.whl.metadata (3.4 kB)\n",
      "Collecting rapidfuzz<4.0.0,>=3.8.0 (from Levenshtein==0.25.1->python-levenshtein>=0.12->fuzzywuzzy[speedup])\n",
      "  Downloading rapidfuzz-3.9.3-cp311-cp311-win_amd64.whl.metadata (12 kB)\n",
      "Downloading python_Levenshtein-0.25.1-py3-none-any.whl (9.4 kB)\n",
      "Downloading Levenshtein-0.25.1-cp311-cp311-win_amd64.whl (98 kB)\n",
      "   ---------------------------------------- 0.0/98.4 kB ? eta -:--:--\n",
      "   ---- ----------------------------------- 10.2/98.4 kB ? eta -:--:--\n",
      "   ------------------------ --------------- 61.4/98.4 kB 1.1 MB/s eta 0:00:01\n",
      "   ------------------------------------- -- 92.2/98.4 kB 1.1 MB/s eta 0:00:01\n",
      "   ------------------------------------- -- 92.2/98.4 kB 1.1 MB/s eta 0:00:01\n",
      "   ---------------------------------------- 98.4/98.4 kB 564.8 kB/s eta 0:00:00\n",
      "Downloading rapidfuzz-3.9.3-cp311-cp311-win_amd64.whl (1.7 MB)\n",
      "   ---------------------------------------- 0.0/1.7 MB ? eta -:--:--\n",
      "   -- ------------------------------------- 0.1/1.7 MB 7.0 MB/s eta 0:00:01\n",
      "   -------- ------------------------------- 0.3/1.7 MB 3.6 MB/s eta 0:00:01\n",
      "   ------------ --------------------------- 0.5/1.7 MB 3.6 MB/s eta 0:00:01\n",
      "   ------------------ --------------------- 0.8/1.7 MB 4.3 MB/s eta 0:00:01\n",
      "   ------------------------- -------------- 1.1/1.7 MB 4.8 MB/s eta 0:00:01\n",
      "   -------------------------------- ------- 1.4/1.7 MB 5.0 MB/s eta 0:00:01\n",
      "   ---------------------------------------  1.6/1.7 MB 5.2 MB/s eta 0:00:01\n",
      "   ---------------------------------------  1.6/1.7 MB 5.0 MB/s eta 0:00:01\n",
      "   ---------------------------------------  1.6/1.7 MB 5.0 MB/s eta 0:00:01\n",
      "   ---------------------------------------- 1.7/1.7 MB 3.6 MB/s eta 0:00:00\n",
      "Installing collected packages: rapidfuzz, Levenshtein, python-levenshtein\n",
      "Successfully installed Levenshtein-0.25.1 python-levenshtein-0.25.1 rapidfuzz-3.9.3\n"
     ]
    }
   ],
   "source": [
    "!pip install fuzzywuzzy[speedup]"
   ]
  },
  {
   "cell_type": "code",
   "execution_count": 4,
   "metadata": {},
   "outputs": [],
   "source": [
    "from fuzzywuzzy import fuzz,process"
   ]
  },
  {
   "cell_type": "markdown",
   "metadata": {},
   "source": [
    "Aplicando fuzzywuzzy em strings"
   ]
  },
  {
   "cell_type": "code",
   "execution_count": 9,
   "metadata": {},
   "outputs": [
    {
     "data": {
      "text/plain": [
       "100"
      ]
     },
     "execution_count": 9,
     "metadata": {},
     "output_type": "execute_result"
    }
   ],
   "source": [
    "s1 = \"Doença Cardiovascular\"\n",
    "s2= \"Doença Cardiovascular\"\n",
    "fuzz.ratio(s1,s2)"
   ]
  },
  {
   "cell_type": "code",
   "execution_count": 10,
   "metadata": {},
   "outputs": [
    {
     "data": {
      "text/plain": [
       "98"
      ]
     },
     "execution_count": 10,
     "metadata": {},
     "output_type": "execute_result"
    }
   ],
   "source": [
    "s1 = \"Doença Cardiovascular\"\n",
    "s2= \"Doença Cardiovasculhar\"\n",
    "fuzz.ratio(s1,s2)"
   ]
  },
  {
   "cell_type": "markdown",
   "metadata": {},
   "source": [
    "Comportamento sobre letras maiusculas"
   ]
  },
  {
   "cell_type": "code",
   "execution_count": 12,
   "metadata": {},
   "outputs": [
    {
     "data": {
      "text/plain": [
       "95"
      ]
     },
     "execution_count": 12,
     "metadata": {},
     "output_type": "execute_result"
    }
   ],
   "source": [
    "s1 = \"Doença Cardiovascular\"\n",
    "s2= \"doença Cardiovascular\"\n",
    "fuzz.ratio(s1,s2)"
   ]
  },
  {
   "cell_type": "markdown",
   "metadata": {},
   "source": [
    "Comportamento sobre pontuação"
   ]
  },
  {
   "cell_type": "code",
   "execution_count": 15,
   "metadata": {},
   "outputs": [
    {
     "data": {
      "text/plain": [
       "95"
      ]
     },
     "execution_count": 15,
     "metadata": {},
     "output_type": "execute_result"
    }
   ],
   "source": [
    "s1 = \"Doença Cardiovascular\"\n",
    "s2= \"Doença Cardiovascular!!\"\n",
    "fuzz.ratio(s1,s2)"
   ]
  },
  {
   "cell_type": "markdown",
   "metadata": {},
   "source": [
    "# Similaridade parcial\n",
    "- Similaridade parcial busca apenas a string em questão e descarta o resto\n",
    "- Extremamente util para trabalha com dados coletados da web"
   ]
  },
  {
   "cell_type": "code",
   "execution_count": 19,
   "metadata": {},
   "outputs": [
    {
     "data": {
      "text/plain": [
       "67"
      ]
     },
     "execution_count": 19,
     "metadata": {},
     "output_type": "execute_result"
    }
   ],
   "source": [
    "#Consulta o score usando o metodo ratio\n",
    "s1 = 'Doençã Cardiovascular'\n",
    "s2 = '!#&*#&!&Doença Cardiovascular¨*%&$%¨$'\n",
    "fuzz.ratio(s1,s2)"
   ]
  },
  {
   "cell_type": "code",
   "execution_count": 26,
   "metadata": {},
   "outputs": [
    {
     "data": {
      "text/plain": [
       "95"
      ]
     },
     "execution_count": 26,
     "metadata": {},
     "output_type": "execute_result"
    }
   ],
   "source": [
    "#Consulta o score usando o metodo partial\n",
    "s1 = 'Doençã Cardiovascular'\n",
    "s2 = '!#&*#&!&Doençâ Cardiovascular¨*%&$%¨$'\n",
    "fuzz.partial_ratio(s1,s2)"
   ]
  },
  {
   "cell_type": "code",
   "execution_count": 25,
   "metadata": {},
   "outputs": [
    {
     "data": {
      "text/plain": [
       "90"
      ]
     },
     "execution_count": 25,
     "metadata": {},
     "output_type": "execute_result"
    }
   ],
   "source": [
    "#Consulta o score usando o metodo partial\n",
    "#Alteração na STRING\n",
    "s1 = 'Doençã Cardiovascular'\n",
    "s2 = '!#&*#&!&Doença CardiovasculHar¨*%&$%¨$'\n",
    "fuzz.partial_ratio(s1,s2)"
   ]
  },
  {
   "cell_type": "code",
   "execution_count": 23,
   "metadata": {},
   "outputs": [
    {
     "data": {
      "text/plain": [
       "64"
      ]
     },
     "execution_count": 23,
     "metadata": {},
     "output_type": "execute_result"
    }
   ],
   "source": [
    "s1 = \"Doenças Cardiovascular\"\n",
    "s2 = \"Cardiovascular Doenças\"\n",
    "fuzz.partial_ratio(s1,s2)"
   ]
  },
  {
   "cell_type": "markdown",
   "metadata": {},
   "source": [
    "- Funçãos partial_token_sort_ratio() separa os tokens por espaço e ordena por ordem alfabetica \n",
    "- Coloca as Strings em letras mminusculas\n",
    "- Considera apenas as Strings consultadas"
   ]
  },
  {
   "cell_type": "code",
   "execution_count": 28,
   "metadata": {},
   "outputs": [
    {
     "data": {
      "text/plain": [
       "100"
      ]
     },
     "execution_count": 28,
     "metadata": {},
     "output_type": "execute_result"
    }
   ],
   "source": [
    "s1 = \"Doenças Cardiovascular\"\n",
    "s2 = \"Cardiovascular Doenças\"\n",
    "fuzz.partial_token_sort_ratio(s1,s2)"
   ]
  },
  {
   "cell_type": "markdown",
   "metadata": {},
   "source": [
    "# Processando uma Lista de Strings\n",
    "- Aplicar o fuzzywuzzy para corrigir strings em uma base de dados"
   ]
  },
  {
   "cell_type": "code",
   "execution_count": 29,
   "metadata": {},
   "outputs": [],
   "source": [
    "# Criando lista de strings\n",
    "lista = ['Doença Cardiovascular','doença cardiovascular!!','Doenca Cardiovascular','Doenc. Cardio']"
   ]
  },
  {
   "cell_type": "markdown",
   "metadata": {},
   "source": [
    "Extrair os score de similaridades com uma string em questão"
   ]
  },
  {
   "cell_type": "code",
   "execution_count": 30,
   "metadata": {},
   "outputs": [
    {
     "data": {
      "text/plain": [
       "[('Doença Cardiovascular', 100),\n",
       " ('doença cardiovascular!!', 100),\n",
       " ('Doenca Cardiovascular', 95),\n",
       " ('Doenc. Cardio', 85)]"
      ]
     },
     "execution_count": 30,
     "metadata": {},
     "output_type": "execute_result"
    }
   ],
   "source": [
    "process.extract('Doença Cardiovascular',lista,scorer=fuzz.partial_ratio)"
   ]
  },
  {
   "cell_type": "markdown",
   "metadata": {},
   "source": [
    "Extraindo apenas Strings cm score acima de 95"
   ]
  },
  {
   "cell_type": "code",
   "execution_count": 31,
   "metadata": {},
   "outputs": [
    {
     "data": {
      "text/plain": [
       "('Doença Cardiovascular', 100)"
      ]
     },
     "execution_count": 31,
     "metadata": {},
     "output_type": "execute_result"
    }
   ],
   "source": [
    "process.extractOne('Doença Cardiovascular',lista,scorer=fuzz.partial_ratio,score_cutoff=95)#extractOne extrai apenas 1 string"
   ]
  },
  {
   "cell_type": "markdown",
   "metadata": {},
   "source": [
    "# Data Cleaning em um DataFrame\n",
    "- Aplicando o fuzzywuzzy em uma base de dados\n",
    "- Medir a similaridade de strings e fazer __Data Cleaning__"
   ]
  },
  {
   "cell_type": "code",
   "execution_count": 59,
   "metadata": {},
   "outputs": [],
   "source": [
    "import pandas as pd \n",
    "from collections import OrderedDict\n",
    "data = OrderedDict(\n",
    "    {\n",
    "        'codigo_produto': [10,11,12,13,14],\n",
    "        'descrição':['iphone 6ss','iphone 6s','ipone 6s', 'iphoni 6s','Iphone 6s,,,,,']\n",
    "    }\n",
    ")"
   ]
  },
  {
   "cell_type": "code",
   "execution_count": 60,
   "metadata": {},
   "outputs": [],
   "source": [
    "dataset = pd.DataFrame(data)"
   ]
  },
  {
   "cell_type": "code",
   "execution_count": 61,
   "metadata": {},
   "outputs": [
    {
     "data": {
      "text/html": [
       "<div>\n",
       "<style scoped>\n",
       "    .dataframe tbody tr th:only-of-type {\n",
       "        vertical-align: middle;\n",
       "    }\n",
       "\n",
       "    .dataframe tbody tr th {\n",
       "        vertical-align: top;\n",
       "    }\n",
       "\n",
       "    .dataframe thead th {\n",
       "        text-align: right;\n",
       "    }\n",
       "</style>\n",
       "<table border=\"1\" class=\"dataframe\">\n",
       "  <thead>\n",
       "    <tr style=\"text-align: right;\">\n",
       "      <th></th>\n",
       "      <th>codigo_produto</th>\n",
       "      <th>descrição</th>\n",
       "    </tr>\n",
       "  </thead>\n",
       "  <tbody>\n",
       "    <tr>\n",
       "      <th>0</th>\n",
       "      <td>10</td>\n",
       "      <td>iphone 6ss</td>\n",
       "    </tr>\n",
       "    <tr>\n",
       "      <th>1</th>\n",
       "      <td>11</td>\n",
       "      <td>iphone 6s</td>\n",
       "    </tr>\n",
       "    <tr>\n",
       "      <th>2</th>\n",
       "      <td>12</td>\n",
       "      <td>ipone 6s</td>\n",
       "    </tr>\n",
       "    <tr>\n",
       "      <th>3</th>\n",
       "      <td>13</td>\n",
       "      <td>iphoni 6s</td>\n",
       "    </tr>\n",
       "    <tr>\n",
       "      <th>4</th>\n",
       "      <td>14</td>\n",
       "      <td>Iphone 6s,,,,,</td>\n",
       "    </tr>\n",
       "  </tbody>\n",
       "</table>\n",
       "</div>"
      ],
      "text/plain": [
       "   codigo_produto       descrição\n",
       "0              10      iphone 6ss\n",
       "1              11       iphone 6s\n",
       "2              12        ipone 6s\n",
       "3              13       iphoni 6s\n",
       "4              14  Iphone 6s,,,,,"
      ]
     },
     "execution_count": 61,
     "metadata": {},
     "output_type": "execute_result"
    }
   ],
   "source": [
    "dataset"
   ]
  },
  {
   "cell_type": "code",
   "execution_count": 49,
   "metadata": {},
   "outputs": [
    {
     "data": {
      "text/plain": [
       "('iphone 6s', 100, 1)"
      ]
     },
     "execution_count": 49,
     "metadata": {},
     "output_type": "execute_result"
    }
   ],
   "source": [
    "process.extractOne('Iphone 6s',choices=dataset.descrição,scorer=fuzz.ratio,score_cutoff=96)"
   ]
  },
  {
   "cell_type": "markdown",
   "metadata": {},
   "source": [
    "Função que aplica o metodo fuzzy"
   ]
  },
  {
   "cell_type": "code",
   "execution_count": 62,
   "metadata": {},
   "outputs": [],
   "source": [
    "def aplicafuzzy (query, dados,metodo_ratio,score_corte):\n",
    "    return process.extractOne(query,choices=dados,scorer=metodo_ratio,score_cutoff=score_corte)"
   ]
  },
  {
   "cell_type": "code",
   "execution_count": 52,
   "metadata": {},
   "outputs": [
    {
     "data": {
      "text/plain": [
       "('iphone 6s', 100, 1)"
      ]
     },
     "execution_count": 52,
     "metadata": {},
     "output_type": "execute_result"
    }
   ],
   "source": [
    "aplicafuzzy('Iphone 6s',dataset.descrição,fuzz.ratio,95)"
   ]
  },
  {
   "cell_type": "markdown",
   "metadata": {},
   "source": [
    "Criando uma nova coluna no Dataset a partir das strings similares"
   ]
  },
  {
   "cell_type": "code",
   "execution_count": 65,
   "metadata": {},
   "outputs": [],
   "source": [
    "dataset['descrição2'] = aplicafuzzy('iphone 6s',dataset.descrição,fuzz.ratio,95)[0]"
   ]
  },
  {
   "cell_type": "code",
   "execution_count": 64,
   "metadata": {},
   "outputs": [
    {
     "data": {
      "text/html": [
       "<div>\n",
       "<style scoped>\n",
       "    .dataframe tbody tr th:only-of-type {\n",
       "        vertical-align: middle;\n",
       "    }\n",
       "\n",
       "    .dataframe tbody tr th {\n",
       "        vertical-align: top;\n",
       "    }\n",
       "\n",
       "    .dataframe thead th {\n",
       "        text-align: right;\n",
       "    }\n",
       "</style>\n",
       "<table border=\"1\" class=\"dataframe\">\n",
       "  <thead>\n",
       "    <tr style=\"text-align: right;\">\n",
       "      <th></th>\n",
       "      <th>codigo_produto</th>\n",
       "      <th>descrição</th>\n",
       "      <th>descrição2</th>\n",
       "    </tr>\n",
       "  </thead>\n",
       "  <tbody>\n",
       "    <tr>\n",
       "      <th>0</th>\n",
       "      <td>10</td>\n",
       "      <td>iphone 6ss</td>\n",
       "      <td>iphone 6s</td>\n",
       "    </tr>\n",
       "    <tr>\n",
       "      <th>1</th>\n",
       "      <td>11</td>\n",
       "      <td>iphone 6s</td>\n",
       "      <td>iphone 6s</td>\n",
       "    </tr>\n",
       "    <tr>\n",
       "      <th>2</th>\n",
       "      <td>12</td>\n",
       "      <td>ipone 6s</td>\n",
       "      <td>iphone 6s</td>\n",
       "    </tr>\n",
       "    <tr>\n",
       "      <th>3</th>\n",
       "      <td>13</td>\n",
       "      <td>iphoni 6s</td>\n",
       "      <td>iphone 6s</td>\n",
       "    </tr>\n",
       "    <tr>\n",
       "      <th>4</th>\n",
       "      <td>14</td>\n",
       "      <td>Iphone 6s,,,,,</td>\n",
       "      <td>iphone 6s</td>\n",
       "    </tr>\n",
       "  </tbody>\n",
       "</table>\n",
       "</div>"
      ],
      "text/plain": [
       "   codigo_produto       descrição descrição2\n",
       "0              10      iphone 6ss  iphone 6s\n",
       "1              11       iphone 6s  iphone 6s\n",
       "2              12        ipone 6s  iphone 6s\n",
       "3              13       iphoni 6s  iphone 6s\n",
       "4              14  Iphone 6s,,,,,  iphone 6s"
      ]
     },
     "execution_count": 64,
     "metadata": {},
     "output_type": "execute_result"
    }
   ],
   "source": [
    "dataset"
   ]
  },
  {
   "cell_type": "code",
   "execution_count": 56,
   "metadata": {},
   "outputs": [
    {
     "data": {
      "text/plain": [
       "[('iphone 6ss', 100, 0),\n",
       " ('iphone 6s', 100, 1),\n",
       " ('Iphone 6s,,,,,', 100, 4),\n",
       " ('iphoni 6s', 89, 3),\n",
       " ('ipone 6s', 88, 2)]"
      ]
     },
     "execution_count": 56,
     "metadata": {},
     "output_type": "execute_result"
    }
   ],
   "source": [
    "process.extract('Iphone 6s',dataset['descrição'],scorer=fuzz.partial_ratio)"
   ]
  },
  {
   "cell_type": "code",
   "execution_count": null,
   "metadata": {},
   "outputs": [],
   "source": []
  }
 ],
 "metadata": {
  "kernelspec": {
   "display_name": "base",
   "language": "python",
   "name": "python3"
  },
  "language_info": {
   "codemirror_mode": {
    "name": "ipython",
    "version": 3
   },
   "file_extension": ".py",
   "mimetype": "text/x-python",
   "name": "python",
   "nbconvert_exporter": "python",
   "pygments_lexer": "ipython3",
   "version": "3.11.7"
  }
 },
 "nbformat": 4,
 "nbformat_minor": 2
}
