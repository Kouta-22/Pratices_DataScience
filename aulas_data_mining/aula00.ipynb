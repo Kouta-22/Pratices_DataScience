{
 "cells": [
  {
   "cell_type": "markdown",
   "metadata": {},
   "source": [
    "# Mineração de dados (Data Mining)\n",
    "\n",
    "- A mineração de dados é o processo de explorar dados à procura de padrões consistentes, como regras de associação ou sequencias temporais para detectar relacionamentos sistemáticos entre variaveis, detectando assim novos subconjustos de dados\n",
    "\n",
    "# Fundamentos de Mineração de Dados\n",
    "A.  Conceitos basicos:\n",
    "- Definição de importancia, quais dados são mais relevantes\n",
    "- Processo de mineração, coleta de dados e preparação dos dados para interpretação e avaliação\n",
    "\n",
    "B. Estatistica e probabilidade:\n",
    "- Estatistica descritiva: Média, mediana moda, variancia, desvio padrão\n",
    "- Distribuição de probabilidade: Normal, binomial, poisson\n"
   ]
  },
  {
   "cell_type": "code",
   "execution_count": null,
   "metadata": {},
   "outputs": [],
   "source": []
  }
 ],
 "metadata": {
  "language_info": {
   "name": "python"
  }
 },
 "nbformat": 4,
 "nbformat_minor": 2
}
