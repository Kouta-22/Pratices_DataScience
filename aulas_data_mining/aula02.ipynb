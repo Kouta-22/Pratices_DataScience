{
 "cells": [
  {
   "cell_type": "code",
   "execution_count": 1,
   "metadata": {},
   "outputs": [],
   "source": [
    "import nltk"
   ]
  },
  {
   "cell_type": "code",
   "execution_count": 2,
   "metadata": {},
   "outputs": [
    {
     "name": "stdout",
     "output_type": "stream",
     "text": [
      "O pacote 'wordnet' já está instalado.\n"
     ]
    }
   ],
   "source": [
    "# Verificar se o pacote 'wordnet' está instalado\n",
    "try:\n",
    "    nltk.data.find('corpora/wordnet.zip')\n",
    "    print(\"O pacote 'wordnet' já está instalado.\")\n",
    "except LookupError:\n",
    "    print(\"O pacote 'wordnet' não está instalado. Baixando agora...\")\n",
    "    nltk.download('wordnet')\n"
   ]
  },
  {
   "cell_type": "code",
   "execution_count": 3,
   "metadata": {},
   "outputs": [],
   "source": [
    "from nltk.corpus import brown"
   ]
  },
  {
   "cell_type": "code",
   "execution_count": 4,
   "metadata": {},
   "outputs": [
    {
     "data": {
      "text/plain": [
       "['adventure',\n",
       " 'belles_lettres',\n",
       " 'editorial',\n",
       " 'fiction',\n",
       " 'government',\n",
       " 'hobbies',\n",
       " 'humor',\n",
       " 'learned',\n",
       " 'lore',\n",
       " 'mystery',\n",
       " 'news',\n",
       " 'religion',\n",
       " 'reviews',\n",
       " 'romance',\n",
       " 'science_fiction']"
      ]
     },
     "execution_count": 4,
     "metadata": {},
     "output_type": "execute_result"
    }
   ],
   "source": [
    "brown.categories()"
   ]
  },
  {
   "cell_type": "markdown",
   "metadata": {},
   "source": [
    "Visualizando sentenças da categoria romance"
   ]
  },
  {
   "cell_type": "code",
   "execution_count": 16,
   "metadata": {},
   "outputs": [
    {
     "data": {
      "text/plain": [
       "[['They', 'neither', 'liked', 'nor', 'disliked', 'the', 'Old', 'Man', '.'], ['To', 'them', 'he', 'could', 'have', 'been', 'the', 'broken', 'bell', 'in', 'the', 'church', 'tower', 'which', 'rang', 'before', 'and', 'after', 'Mass', ',', 'and', 'at', 'noon', ',', 'and', 'at', 'six', 'each', 'evening', '--', 'its', 'tone', ',', 'repetitive', ',', 'monotonous', ',', 'never', 'breaking', 'the', 'boredom', 'of', 'the', 'streets', '.'], ...]"
      ]
     },
     "execution_count": 16,
     "metadata": {},
     "output_type": "execute_result"
    }
   ],
   "source": [
    "brown.sents(categories='romance')"
   ]
  },
  {
   "cell_type": "markdown",
   "metadata": {},
   "source": [
    "Quantidade de sentenças da categoria"
   ]
  },
  {
   "cell_type": "code",
   "execution_count": 17,
   "metadata": {},
   "outputs": [
    {
     "data": {
      "text/plain": [
       "4431"
      ]
     },
     "execution_count": 17,
     "metadata": {},
     "output_type": "execute_result"
    }
   ],
   "source": [
    "len(brown.sents(categories='romance'))"
   ]
  },
  {
   "cell_type": "markdown",
   "metadata": {},
   "source": [
    "Obtendo as palavras do corpus romance"
   ]
  },
  {
   "cell_type": "code",
   "execution_count": 18,
   "metadata": {},
   "outputs": [],
   "source": [
    "palavras = brown.words(categories=['romance'])"
   ]
  },
  {
   "cell_type": "markdown",
   "metadata": {},
   "source": [
    "Obtendo a frequencia de palavras"
   ]
  },
  {
   "cell_type": "code",
   "execution_count": 8,
   "metadata": {},
   "outputs": [],
   "source": [
    "fdist = nltk.FreqDist(p.lower() for p in palavras)"
   ]
  },
  {
   "cell_type": "code",
   "execution_count": 9,
   "metadata": {},
   "outputs": [
    {
     "data": {
      "text/plain": [
       "14470"
      ]
     },
     "execution_count": 9,
     "metadata": {},
     "output_type": "execute_result"
    }
   ],
   "source": [
    "len(palavras)"
   ]
  },
  {
   "cell_type": "code",
   "execution_count": 19,
   "metadata": {},
   "outputs": [
    {
     "data": {
      "text/plain": [
       "[(',', 791),\n",
       " ('.', 786),\n",
       " ('the', 723),\n",
       " ('of', 329),\n",
       " ('to', 306),\n",
       " ('and', 294),\n",
       " ('a', 236),\n",
       " ('``', 235),\n",
       " (\"''\", 235),\n",
       " ('was', 200),\n",
       " ('he', 191),\n",
       " ('in', 164),\n",
       " ('it', 158),\n",
       " ('?', 158),\n",
       " ('had', 143),\n",
       " ('that', 131),\n",
       " ('his', 102),\n",
       " ('for', 100),\n",
       " ('i', 98),\n",
       " ('you', 96)]"
      ]
     },
     "execution_count": 19,
     "metadata": {},
     "output_type": "execute_result"
    }
   ],
   "source": [
    "fdist.most_common(20)"
   ]
  },
  {
   "cell_type": "markdown",
   "metadata": {},
   "source": [
    "Palavras ordenadas por ordem alfabetica"
   ]
  },
  {
   "cell_type": "code",
   "execution_count": 20,
   "metadata": {},
   "outputs": [
    {
     "data": {
      "text/plain": [
       "['!',\n",
       " '&',\n",
       " \"'\",\n",
       " \"''\",\n",
       " \"'ello\",\n",
       " \"'em\",\n",
       " \"'most\",\n",
       " '(',\n",
       " ')',\n",
       " ',',\n",
       " '--',\n",
       " '.',\n",
       " '10',\n",
       " '141',\n",
       " '160',\n",
       " '1935',\n",
       " '1936',\n",
       " '1938',\n",
       " '1940',\n",
       " '1944',\n",
       " '230',\n",
       " '3',\n",
       " '4000-plus',\n",
       " \"6'\",\n",
       " ':',\n",
       " ';',\n",
       " '?',\n",
       " 'A',\n",
       " \"A's\",\n",
       " 'A-Z',\n",
       " \"A-Z's\",\n",
       " 'A.M.',\n",
       " 'A40-AjK',\n",
       " 'AA',\n",
       " 'Abernathy',\n",
       " 'Abernathys',\n",
       " 'About',\n",
       " 'Above',\n",
       " 'Abruptly',\n",
       " 'Absolution',\n",
       " 'Acala',\n",
       " 'Across',\n",
       " 'Acting',\n",
       " 'Actually',\n",
       " 'Adam',\n",
       " 'Adams',\n",
       " 'Adele',\n",
       " 'Adelia',\n",
       " 'Adrien',\n",
       " 'African']"
      ]
     },
     "execution_count": 20,
     "metadata": {},
     "output_type": "execute_result"
    }
   ],
   "source": [
    "sorted(set(palavras))[:50]"
   ]
  },
  {
   "cell_type": "markdown",
   "metadata": {},
   "source": [
    "Frequencia de determinada palavra no corpus"
   ]
  },
  {
   "cell_type": "code",
   "execution_count": 21,
   "metadata": {},
   "outputs": [
    {
     "data": {
      "text/plain": [
       "32"
      ]
     },
     "execution_count": 21,
     "metadata": {},
     "output_type": "execute_result"
    }
   ],
   "source": [
    "palavras.count('love')"
   ]
  },
  {
   "cell_type": "code",
   "execution_count": 22,
   "metadata": {},
   "outputs": [
    {
     "data": {
      "text/plain": [
       "9"
      ]
     },
     "execution_count": 22,
     "metadata": {},
     "output_type": "execute_result"
    }
   ],
   "source": [
    "palavras.count('hate')"
   ]
  },
  {
   "cell_type": "markdown",
   "metadata": {},
   "source": [
    "Obtendo a frequencia em percentual de uma palavra no texto"
   ]
  },
  {
   "cell_type": "code",
   "execution_count": 23,
   "metadata": {},
   "outputs": [],
   "source": [
    "def palavra_percentual(freq,dataset):\n",
    "    total=len(dataset)\n",
    "    return 100 * freq / total"
   ]
  },
  {
   "cell_type": "code",
   "execution_count": 24,
   "metadata": {},
   "outputs": [
    {
     "data": {
      "text/plain": [
       "0.04569992288138014"
      ]
     },
     "execution_count": 24,
     "metadata": {},
     "output_type": "execute_result"
    }
   ],
   "source": [
    "palavra_percentual(palavras.count('love'),palavras)"
   ]
  },
  {
   "cell_type": "markdown",
   "metadata": {},
   "source": [
    "__Transformando palavras em objeto texto__\n",
    "- Para isso deve-se passar uma lista de palavras para essa classe"
   ]
  },
  {
   "cell_type": "code",
   "execution_count": 25,
   "metadata": {},
   "outputs": [
    {
     "data": {
      "text/plain": [
       "nltk.corpus.reader.util.ConcatenatedCorpusView"
      ]
     },
     "execution_count": 25,
     "metadata": {},
     "output_type": "execute_result"
    }
   ],
   "source": [
    "type(palavras)"
   ]
  },
  {
   "cell_type": "code",
   "execution_count": 26,
   "metadata": {},
   "outputs": [],
   "source": [
    "palavras = nltk.Text(palavras)"
   ]
  },
  {
   "cell_type": "code",
   "execution_count": 27,
   "metadata": {},
   "outputs": [
    {
     "data": {
      "text/plain": [
       "nltk.text.Text"
      ]
     },
     "execution_count": 27,
     "metadata": {},
     "output_type": "execute_result"
    }
   ],
   "source": [
    "type(palavras)"
   ]
  },
  {
   "cell_type": "markdown",
   "metadata": {},
   "source": [
    "Utilizando o metodo 'similar' para encontrar palavras similares"
   ]
  },
  {
   "cell_type": "code",
   "execution_count": 28,
   "metadata": {},
   "outputs": [
    {
     "name": "stdout",
     "output_type": "stream",
     "text": [
      "see that it place know tell want help understand telling hate man he\n",
      "there him above name one but her\n"
     ]
    }
   ],
   "source": [
    "palavras.similar('love')"
   ]
  },
  {
   "cell_type": "markdown",
   "metadata": {},
   "source": [
    "Utilizando o metodo 'collocation' para observar palavras que são empregadas junto"
   ]
  },
  {
   "cell_type": "code",
   "execution_count": 29,
   "metadata": {},
   "outputs": [
    {
     "name": "stdout",
     "output_type": "stream",
     "text": [
      "New York; Old Man; Mike Deegan; Cousin Elec; Lucille Warren; old man;\n",
      "Poor John; Cousin Emma; Gratt Shafer; I've got; Mrs. Kirby; could see;\n",
      "Eddie Lee; Hanford College; young men; Miss Jen; Mr. Willis; Early\n",
      "Spring; Mrs. Salter; Gertrude Parker\n"
     ]
    }
   ],
   "source": [
    "palavras.collocations()"
   ]
  },
  {
   "cell_type": "markdown",
   "metadata": {},
   "source": [
    "Empregabilidade comum das palavras"
   ]
  },
  {
   "cell_type": "code",
   "execution_count": 32,
   "metadata": {},
   "outputs": [
    {
     "name": "stdout",
     "output_type": "stream",
     "text": [
      "i_you and_him\n"
     ]
    }
   ],
   "source": [
    "palavras.common_contexts(['love','hate'])"
   ]
  },
  {
   "cell_type": "markdown",
   "metadata": {},
   "source": [
    "Disperção lexica de palavras no dataset"
   ]
  },
  {
   "cell_type": "code",
   "execution_count": 34,
   "metadata": {},
   "outputs": [
    {
     "data": {
      "image/png": "[encoded data removed]",
      "text/plain": [
       "<Figure size 640x480 with 1 Axes>"
      ]
     },
     "metadata": {},
     "output_type": "display_data"
    }
   ],
   "source": [
    "palavras.dispersion_plot([\"love\",\"hate\",\"man\"])"
   ]
  },
  {
   "cell_type": "markdown",
   "metadata": {},
   "source": [
    "# Bigrams & trigrams\n",
    "\n",
    "- Bigrams e trigrams são tipos de n-grama, que são conjuntos de itens consecutivos em um texto ou fala. No caso de bigrams, são pares de itens (como palavras ou letras) e trigrams são em trios. Eles são usados em processamento de linguagem natural para modelar a probabilidade de sequências de palavras"
   ]
  },
  {
   "cell_type": "code",
   "execution_count": 1,
   "metadata": {},
   "outputs": [],
   "source": [
    "import nltk\n",
    "from nltk import bigrams, trigrams"
   ]
  },
  {
   "cell_type": "markdown",
   "metadata": {},
   "source": [
    "Visualização de bigrams"
   ]
  },
  {
   "cell_type": "code",
   "execution_count": 2,
   "metadata": {},
   "outputs": [
    {
     "data": {
      "text/plain": [
       "[('o rato', 'roeu'),\n",
       " ('roeu', 'aroupa'),\n",
       " ('aroupa', 'do rei'),\n",
       " ('do rei', 'de roma')]"
      ]
     },
     "execution_count": 2,
     "metadata": {},
     "output_type": "execute_result"
    }
   ],
   "source": [
    "list(bigrams(['o rato','roeu','aroupa','do rei','de roma']))"
   ]
  },
  {
   "cell_type": "markdown",
   "metadata": {},
   "source": [
    "Visualização de trigrams"
   ]
  },
  {
   "cell_type": "code",
   "execution_count": 4,
   "metadata": {},
   "outputs": [
    {
     "data": {
      "text/plain": [
       "[('O rato', 'roeu', ' a roupa'),\n",
       " ('roeu', ' a roupa', 'do rei'),\n",
       " (' a roupa', 'do rei', 'de roma')]"
      ]
     },
     "execution_count": 4,
     "metadata": {},
     "output_type": "execute_result"
    }
   ],
   "source": [
    "list(trigrams(['O rato', 'roeu', ' a roupa','do rei', 'de roma']))"
   ]
  },
  {
   "cell_type": "markdown",
   "metadata": {},
   "source": [
    "# NLTK - Text Mining"
   ]
  },
  {
   "cell_type": "code",
   "execution_count": 5,
   "metadata": {},
   "outputs": [
    {
     "name": "stderr",
     "output_type": "stream",
     "text": [
      "[nltk_data] Downloading package punkt to\n",
      "[nltk_data]     C:\\Users\\Guilherme\\AppData\\Roaming\\nltk_data...\n"
     ]
    },
    {
     "name": "stdout",
     "output_type": "stream",
     "text": [
      "Tokens de palavras: ['NLTK', 'é', 'uma', 'biblioteca', 'poderosa', 'para', 'PLN', '.', 'Ela', 'facilita', 'o', 'trabalho', 'com', 'textos', '.']\n",
      "Tokens de sentenças: ['NLTK é uma biblioteca poderosa para PLN.', 'Ela facilita o trabalho com textos.']\n"
     ]
    },
    {
     "name": "stderr",
     "output_type": "stream",
     "text": [
      "[nltk_data]   Package punkt is already up-to-date!\n"
     ]
    }
   ],
   "source": [
    "import nltk\n",
    "from nltk.tokenize import word_tokenize, sent_tokenize\n",
    "\n",
    "# Certifique-se de que os pacotes 'punkt' foram baixados\n",
    "nltk.download('punkt')\n",
    "\n",
    "texto = \"NLTK é uma biblioteca poderosa para PLN. Ela facilita o trabalho com textos.\"\n",
    "tokens_palavras = word_tokenize(texto)\n",
    "tokens_sentencas = sent_tokenize(texto)\n",
    "\n",
    "print(\"Tokens de palavras:\", tokens_palavras)\n",
    "print(\"Tokens de sentenças:\", tokens_sentencas)\n"
   ]
  },
  {
   "cell_type": "code",
   "execution_count": 10,
   "metadata": {},
   "outputs": [
    {
     "name": "stdout",
     "output_type": "stream",
     "text": [
      "Etiquetas de Partes do Discurso: [('NLTK', 'NNP'), ('é', 'NNP'), ('uma', 'JJ'), ('biblioteca', 'NN'), ('poderosa', 'NN'), ('para', 'NN'), ('PLN', 'NNP'), ('.', '.')]\n"
     ]
    }
   ],
   "source": [
    "from nltk import pos_tag\n",
    "\n",
    "\n",
    "tokens = word_tokenize(\"NLTK é uma biblioteca poderosa para PLN.\")\n",
    "tags = pos_tag(tokens)\n",
    "\n",
    "print(\"Etiquetas de Partes do Discurso:\", tags)\n"
   ]
  },
  {
   "cell_type": "markdown",
   "metadata": {},
   "source": [
    "# TextBlob\n",
    "- Extensão NLTK para utilizar-se com NLP"
   ]
  },
  {
   "cell_type": "code",
   "execution_count": 11,
   "metadata": {},
   "outputs": [
    {
     "name": "stdout",
     "output_type": "stream",
     "text": [
      "Collecting textblob\n",
      "  Downloading textblob-0.18.0.post0-py3-none-any.whl.metadata (4.5 kB)\n",
      "Requirement already satisfied: nltk>=3.8 in c:\\users\\guilherme\\anaconda3\\lib\\site-packages (from textblob) (3.8.1)\n",
      "Requirement already satisfied: click in c:\\users\\guilherme\\anaconda3\\lib\\site-packages (from nltk>=3.8->textblob) (8.1.7)\n",
      "Requirement already satisfied: joblib in c:\\users\\guilherme\\anaconda3\\lib\\site-packages (from nltk>=3.8->textblob) (1.1.1)\n",
      "Requirement already satisfied: regex>=2021.8.3 in c:\\users\\guilherme\\anaconda3\\lib\\site-packages (from nltk>=3.8->textblob) (2023.10.3)\n",
      "Requirement already satisfied: tqdm in c:\\users\\guilherme\\anaconda3\\lib\\site-packages (from nltk>=3.8->textblob) (4.65.0)\n",
      "Requirement already satisfied: colorama in c:\\users\\guilherme\\anaconda3\\lib\\site-packages (from click->nltk>=3.8->textblob) (0.4.6)\n",
      "Downloading textblob-0.18.0.post0-py3-none-any.whl (626 kB)\n",
      "   ---------------------------------------- 0.0/626.3 kB ? eta -:--:--\n",
      "    --------------------------------------- 10.2/626.3 kB ? eta -:--:--\n",
      "   -- ------------------------------------ 41.0/626.3 kB 495.5 kB/s eta 0:00:02\n",
      "   ------ ------------------------------- 112.6/626.3 kB 939.4 kB/s eta 0:00:01\n",
      "   ------------ --------------------------- 194.6/626.3 kB 1.2 MB/s eta 0:00:01\n",
      "   --------------------- ------------------ 337.9/626.3 kB 1.6 MB/s eta 0:00:01\n",
      "   ---------------------------------------  624.6/626.3 kB 2.5 MB/s eta 0:00:01\n",
      "   ---------------------------------------  624.6/626.3 kB 2.5 MB/s eta 0:00:01\n",
      "   ---------------------------------------  624.6/626.3 kB 2.5 MB/s eta 0:00:01\n",
      "   ---------------------------------------  624.6/626.3 kB 2.5 MB/s eta 0:00:01\n",
      "   ---------------------------------------- 626.3/626.3 kB 1.5 MB/s eta 0:00:00\n",
      "Installing collected packages: textblob\n",
      "Successfully installed textblob-0.18.0.post0\n"
     ]
    }
   ],
   "source": [
    "!pip install textblob"
   ]
  },
  {
   "cell_type": "code",
   "execution_count": 12,
   "metadata": {},
   "outputs": [
    {
     "name": "stdout",
     "output_type": "stream",
     "text": [
      "Finished.\n"
     ]
    },
    {
     "name": "stderr",
     "output_type": "stream",
     "text": [
      "[nltk_data] Downloading package brown to\n",
      "[nltk_data]     C:\\Users\\Guilherme\\AppData\\Roaming\\nltk_data...\n",
      "[nltk_data]   Package brown is already up-to-date!\n",
      "[nltk_data] Downloading package punkt to\n",
      "[nltk_data]     C:\\Users\\Guilherme\\AppData\\Roaming\\nltk_data...\n",
      "[nltk_data]   Package punkt is already up-to-date!\n",
      "[nltk_data] Downloading package wordnet to\n",
      "[nltk_data]     C:\\Users\\Guilherme\\AppData\\Roaming\\nltk_data...\n",
      "[nltk_data]   Package wordnet is already up-to-date!\n",
      "[nltk_data] Downloading package averaged_perceptron_tagger to\n",
      "[nltk_data]     C:\\Users\\Guilherme\\AppData\\Roaming\\nltk_data...\n",
      "[nltk_data]   Package averaged_perceptron_tagger is already up-to-\n",
      "[nltk_data]       date!\n",
      "[nltk_data] Downloading package conll2000 to\n",
      "[nltk_data]     C:\\Users\\Guilherme\\AppData\\Roaming\\nltk_data...\n",
      "[nltk_data]   Package conll2000 is already up-to-date!\n",
      "[nltk_data] Downloading package movie_reviews to\n",
      "[nltk_data]     C:\\Users\\Guilherme\\AppData\\Roaming\\nltk_data...\n",
      "[nltk_data]   Package movie_reviews is already up-to-date!\n"
     ]
    }
   ],
   "source": [
    "!python -m textblob.download_corpora"
   ]
  },
  {
   "cell_type": "code",
   "execution_count": 22,
   "metadata": {},
   "outputs": [],
   "source": [
    "from textblob import TextBlob"
   ]
  },
  {
   "cell_type": "code",
   "execution_count": 23,
   "metadata": {},
   "outputs": [],
   "source": [
    "frases = TextBlob(\"Python é uma otima linguagem para dataScience. Minerando dados textuais\")"
   ]
  },
  {
   "cell_type": "code",
   "execution_count": 15,
   "metadata": {},
   "outputs": [
    {
     "data": {
      "text/plain": [
       "WordList(['Python', 'é', 'uma', 'otima', 'linguagem', 'para', 'dataScience', '.', 'Minerando', 'dados', 'textuais'])"
      ]
     },
     "execution_count": 15,
     "metadata": {},
     "output_type": "execute_result"
    }
   ],
   "source": [
    "frases.tokens"
   ]
  },
  {
   "cell_type": "markdown",
   "metadata": {},
   "source": [
    "__Detectando sentenças__"
   ]
  },
  {
   "cell_type": "code",
   "execution_count": 16,
   "metadata": {},
   "outputs": [
    {
     "data": {
      "text/plain": [
       "[Sentence(\"Python é uma otima linguagem para dataScience.\"),\n",
       " Sentence(\"Minerando dados textuais\")]"
      ]
     },
     "execution_count": 16,
     "metadata": {},
     "output_type": "execute_result"
    }
   ],
   "source": [
    "frases.sentences"
   ]
  },
  {
   "cell_type": "markdown",
   "metadata": {},
   "source": [
    "__Utilizando de n-grams__"
   ]
  },
  {
   "cell_type": "code",
   "execution_count": 34,
   "metadata": {},
   "outputs": [
    {
     "data": {
      "text/plain": [
       "[WordList(['python', 'is']),\n",
       " WordList(['is', 'a']),\n",
       " WordList(['a', 'great']),\n",
       " WordList(['great', 'langueage']),\n",
       " WordList(['langueage', 'for']),\n",
       " WordList(['for', 'datascience'])]"
      ]
     },
     "execution_count": 34,
     "metadata": {},
     "output_type": "execute_result"
    }
   ],
   "source": [
    "frase = TextBlob(\"python is a great langueage for datascience\")\n",
    "frase.ngrams(n=2)#bigram"
   ]
  },
  {
   "cell_type": "code",
   "execution_count": 35,
   "metadata": {},
   "outputs": [
    {
     "data": {
      "text/plain": [
       "[WordList(['python', 'is', 'a']),\n",
       " WordList(['is', 'a', 'great']),\n",
       " WordList(['a', 'great', 'langueage']),\n",
       " WordList(['great', 'langueage', 'for']),\n",
       " WordList(['langueage', 'for', 'datascience'])]"
      ]
     },
     "execution_count": 35,
     "metadata": {},
     "output_type": "execute_result"
    }
   ],
   "source": [
    "frase = TextBlob(\"python is a great langueage for datascience\")\n",
    "frase.ngrams(n=3)#trigram"
   ]
  },
  {
   "cell_type": "code",
   "execution_count": 36,
   "metadata": {},
   "outputs": [
    {
     "data": {
      "text/plain": [
       "[WordList(['python', 'is', 'a', 'great']),\n",
       " WordList(['is', 'a', 'great', 'langueage']),\n",
       " WordList(['a', 'great', 'langueage', 'for']),\n",
       " WordList(['great', 'langueage', 'for', 'datascience'])]"
      ]
     },
     "execution_count": 36,
     "metadata": {},
     "output_type": "execute_result"
    }
   ],
   "source": [
    "frase = TextBlob(\"python is a great langueage for datascience\")\n",
    "frase.ngrams(n=4)#fourgram"
   ]
  },
  {
   "cell_type": "markdown",
   "metadata": {},
   "source": [
    "__Traduzindo sentenças__\n",
    "- detecção automatica de idioma"
   ]
  },
  {
   "cell_type": "code",
   "execution_count": 20,
   "metadata": {},
   "outputs": [
    {
     "name": "stdout",
     "output_type": "stream",
     "text": [
      "Collecting googletrans==4.0.0-rc1\n",
      "  Downloading googletrans-4.0.0rc1.tar.gz (20 kB)\n",
      "  Preparing metadata (setup.py): started\n",
      "  Preparing metadata (setup.py): finished with status 'done'\n",
      "Collecting httpx==0.13.3 (from googletrans==4.0.0-rc1)\n",
      "  Downloading httpx-0.13.3-py3-none-any.whl.metadata (25 kB)\n",
      "Requirement already satisfied: certifi in c:\\users\\guilherme\\anaconda3\\lib\\site-packages (from httpx==0.13.3->googletrans==4.0.0-rc1) (2024.2.2)\n",
      "Collecting hstspreload (from httpx==0.13.3->googletrans==4.0.0-rc1)\n",
      "  Downloading hstspreload-2024.6.1-py3-none-any.whl.metadata (2.1 kB)\n",
      "Requirement already satisfied: sniffio in c:\\users\\guilherme\\anaconda3\\lib\\site-packages (from httpx==0.13.3->googletrans==4.0.0-rc1) (1.3.0)\n",
      "Collecting chardet==3.* (from httpx==0.13.3->googletrans==4.0.0-rc1)\n",
      "  Downloading chardet-3.0.4-py2.py3-none-any.whl.metadata (3.2 kB)\n",
      "Collecting idna==2.* (from httpx==0.13.3->googletrans==4.0.0-rc1)\n",
      "  Downloading idna-2.10-py2.py3-none-any.whl.metadata (9.1 kB)\n",
      "Collecting rfc3986<2,>=1.3 (from httpx==0.13.3->googletrans==4.0.0-rc1)\n",
      "  Downloading rfc3986-1.5.0-py2.py3-none-any.whl.metadata (6.5 kB)\n",
      "Collecting httpcore==0.9.* (from httpx==0.13.3->googletrans==4.0.0-rc1)\n",
      "  Downloading httpcore-0.9.1-py3-none-any.whl.metadata (4.6 kB)\n",
      "Collecting h11<0.10,>=0.8 (from httpcore==0.9.*->httpx==0.13.3->googletrans==4.0.0-rc1)\n",
      "  Downloading h11-0.9.0-py2.py3-none-any.whl.metadata (8.1 kB)\n",
      "Collecting h2==3.* (from httpcore==0.9.*->httpx==0.13.3->googletrans==4.0.0-rc1)\n",
      "  Downloading h2-3.2.0-py2.py3-none-any.whl.metadata (32 kB)\n",
      "Collecting hyperframe<6,>=5.2.0 (from h2==3.*->httpcore==0.9.*->httpx==0.13.3->googletrans==4.0.0-rc1)\n",
      "  Downloading hyperframe-5.2.0-py2.py3-none-any.whl.metadata (7.2 kB)\n",
      "Collecting hpack<4,>=3.0 (from h2==3.*->httpcore==0.9.*->httpx==0.13.3->googletrans==4.0.0-rc1)\n",
      "  Downloading hpack-3.0.0-py2.py3-none-any.whl.metadata (7.0 kB)\n",
      "Downloading httpx-0.13.3-py3-none-any.whl (55 kB)\n",
      "   ---------------------------------------- 0.0/55.1 kB ? eta -:--:--\n",
      "   ------------------------------------- -- 51.2/55.1 kB 2.7 MB/s eta 0:00:01\n",
      "   ---------------------------------------- 55.1/55.1 kB 575.1 kB/s eta 0:00:00\n",
      "Downloading chardet-3.0.4-py2.py3-none-any.whl (133 kB)\n",
      "   ---------------------------------------- 0.0/133.4 kB ? eta -:--:--\n",
      "   --------------------------- ------------ 92.2/133.4 kB 2.6 MB/s eta 0:00:01\n",
      "   ---------------------------------------  133.1/133.4 kB 2.0 MB/s eta 0:00:01\n",
      "   ---------------------------------------  133.1/133.4 kB 2.0 MB/s eta 0:00:01\n",
      "   ---------------------------------------  133.1/133.4 kB 2.0 MB/s eta 0:00:01\n",
      "   ---------------------------------------  133.1/133.4 kB 2.0 MB/s eta 0:00:01\n",
      "   -------------------------------------- 133.4/133.4 kB 462.8 kB/s eta 0:00:00\n",
      "Downloading httpcore-0.9.1-py3-none-any.whl (42 kB)\n",
      "   ---------------------------------------- 0.0/42.6 kB ? eta -:--:--\n",
      "   -------------------------------------- - 41.0/42.6 kB ? eta -:--:--\n",
      "   -------------------------------------- - 41.0/42.6 kB ? eta -:--:--\n",
      "   ---------------------------------------- 42.6/42.6 kB 259.2 kB/s eta 0:00:00\n",
      "Downloading idna-2.10-py2.py3-none-any.whl (58 kB)\n",
      "   ---------------------------------------- 0.0/58.8 kB ? eta -:--:--\n",
      "   ---------------------------------- ----- 51.2/58.8 kB 2.6 MB/s eta 0:00:01\n",
      "   ---------------------------------- ----- 51.2/58.8 kB 2.6 MB/s eta 0:00:01\n",
      "   ---------------------------------------- 58.8/58.8 kB 516.7 kB/s eta 0:00:00\n",
      "Downloading h2-3.2.0-py2.py3-none-any.whl (65 kB)\n",
      "   ---------------------------------------- 0.0/65.0 kB ? eta -:--:--\n",
      "   ------------------------------------- -- 61.4/65.0 kB ? eta -:--:--\n",
      "   ---------------------------------------- 65.0/65.0 kB 702.6 kB/s eta 0:00:00\n",
      "Downloading rfc3986-1.5.0-py2.py3-none-any.whl (31 kB)\n",
      "Downloading hstspreload-2024.6.1-py3-none-any.whl (1.2 MB)\n",
      "   ---------------------------------------- 0.0/1.2 MB ? eta -:--:--\n",
      "   ---- ----------------------------------- 0.1/1.2 MB 2.8 MB/s eta 0:00:01\n",
      "   ----------- ---------------------------- 0.3/1.2 MB 3.5 MB/s eta 0:00:01\n",
      "   ----------------- ---------------------- 0.5/1.2 MB 3.5 MB/s eta 0:00:01\n",
      "   ------------------------ --------------- 0.7/1.2 MB 4.1 MB/s eta 0:00:01\n",
      "   ------------------------------ --------- 0.9/1.2 MB 4.0 MB/s eta 0:00:01\n",
      "   ----------------------------------- ---- 1.0/1.2 MB 3.8 MB/s eta 0:00:01\n",
      "   ---------------------------------------  1.2/1.2 MB 3.7 MB/s eta 0:00:01\n",
      "   ---------------------------------------  1.2/1.2 MB 3.7 MB/s eta 0:00:01\n",
      "   ---------------------------------------  1.2/1.2 MB 3.7 MB/s eta 0:00:01\n",
      "   ---------------------------------------- 1.2/1.2 MB 2.7 MB/s eta 0:00:00\n",
      "Downloading h11-0.9.0-py2.py3-none-any.whl (53 kB)\n",
      "   ---------------------------------------- 0.0/53.6 kB ? eta -:--:--\n",
      "   -------------------------------------- - 51.2/53.6 kB ? eta -:--:--\n",
      "   ---------------------------------------- 53.6/53.6 kB 556.0 kB/s eta 0:00:00\n",
      "Downloading hpack-3.0.0-py2.py3-none-any.whl (38 kB)\n",
      "Downloading hyperframe-5.2.0-py2.py3-none-any.whl (12 kB)\n",
      "Building wheels for collected packages: googletrans\n",
      "  Building wheel for googletrans (setup.py): started\n",
      "  Building wheel for googletrans (setup.py): finished with status 'done'\n",
      "  Created wheel for googletrans: filename=googletrans-4.0.0rc1-py3-none-any.whl size=17458 sha256=39464295bb7ef290d2b44b78bde3f7a8d6e3cd700c64a66ccaa8838c61c0cb9d\n",
      "  Stored in directory: c:\\users\\guilherme\\appdata\\local\\pip\\cache\\wheels\\39\\17\\6f\\66a045ea3d168826074691b4b787b8f324d3f646d755443fda\n",
      "Successfully built googletrans\n",
      "Installing collected packages: rfc3986, hyperframe, hpack, h11, chardet, idna, hstspreload, h2, httpcore, httpx, googletrans\n",
      "  Attempting uninstall: chardet\n",
      "    Found existing installation: chardet 4.0.0\n",
      "    Uninstalling chardet-4.0.0:\n",
      "      Successfully uninstalled chardet-4.0.0\n",
      "  Attempting uninstall: idna\n",
      "    Found existing installation: idna 3.4\n",
      "    Uninstalling idna-3.4:\n",
      "      Successfully uninstalled idna-3.4\n",
      "Successfully installed chardet-3.0.4 googletrans-4.0.0rc1 h11-0.9.0 h2-3.2.0 hpack-3.0.0 hstspreload-2024.6.1 httpcore-0.9.1 httpx-0.13.3 hyperframe-5.2.0 idna-2.10 rfc3986-1.5.0\n"
     ]
    }
   ],
   "source": [
    "!pip install googletrans==4.0.0-rc1\n"
   ]
  },
  {
   "cell_type": "code",
   "execution_count": 24,
   "metadata": {},
   "outputs": [
    {
     "ename": "AttributeError",
     "evalue": "'TextBlob' object has no attribute 'detect_language'",
     "output_type": "error",
     "traceback": [
      "\u001b[1;31m---------------------------------------------------------------------------\u001b[0m",
      "\u001b[1;31mAttributeError\u001b[0m                            Traceback (most recent call last)",
      "Cell \u001b[1;32mIn[24], line 1\u001b[0m\n\u001b[1;32m----> 1\u001b[0m frases\u001b[38;5;241m.\u001b[39mdetect_language()\n",
      "\u001b[1;31mAttributeError\u001b[0m: 'TextBlob' object has no attribute 'detect_language'"
     ]
    }
   ],
   "source": [
    "frases.detect_language()"
   ]
  },
  {
   "cell_type": "code",
   "execution_count": 25,
   "metadata": {},
   "outputs": [],
   "source": [
    "frase1 = \"texto de exemplo para traduzir\""
   ]
  },
  {
   "cell_type": "code",
   "execution_count": 26,
   "metadata": {},
   "outputs": [],
   "source": [
    "blob = TextBlob(frase1)"
   ]
  },
  {
   "cell_type": "code",
   "execution_count": 28,
   "metadata": {},
   "outputs": [
    {
     "name": "stdout",
     "output_type": "stream",
     "text": [
      "Erro ao detectar idioma: 'TextBlob' object has no attribute 'detect_language'\n"
     ]
    }
   ],
   "source": [
    "texto = \"Bonjour tout le monde!\"\n",
    "\n",
    "# Criar um objeto TextBlob\n",
    "blob = TextBlob(texto)\n",
    "\n",
    "# Detectar o idioma usando a função de tradução\n",
    "try:\n",
    "    idioma = blob.detect_language()\n",
    "    print(\"Idioma detectado:\", idioma)\n",
    "except Exception as e:\n",
    "    print(f\"Erro ao detectar idioma: {e}\")\n"
   ]
  },
  {
   "cell_type": "code",
   "execution_count": 29,
   "metadata": {},
   "outputs": [
    {
     "ename": "TypeError",
     "evalue": "str.translate() takes no keyword arguments",
     "output_type": "error",
     "traceback": [
      "\u001b[1;31m---------------------------------------------------------------------------\u001b[0m",
      "\u001b[1;31mTypeError\u001b[0m                                 Traceback (most recent call last)",
      "Cell \u001b[1;32mIn[29], line 1\u001b[0m\n\u001b[1;32m----> 1\u001b[0m frase1\u001b[38;5;241m.\u001b[39mtranslate(from_lang\u001b[38;5;241m=\u001b[39m\u001b[38;5;124m'\u001b[39m\u001b[38;5;124mpt\u001b[39m\u001b[38;5;124m'\u001b[39m,to\u001b[38;5;241m=\u001b[39m\u001b[38;5;124m'\u001b[39m\u001b[38;5;124men\u001b[39m\u001b[38;5;124m'\u001b[39m)\n",
      "\u001b[1;31mTypeError\u001b[0m: str.translate() takes no keyword arguments"
     ]
    }
   ],
   "source": [
    "frase1.translate(from_lang='pt',to='en')"
   ]
  },
  {
   "cell_type": "code",
   "execution_count": 30,
   "metadata": {},
   "outputs": [
    {
     "name": "stdout",
     "output_type": "stream",
     "text": [
      "Erro ao traduzir: 'TextBlob' object has no attribute 'translate'\n"
     ]
    }
   ],
   "source": [
    "from textblob import TextBlob\n",
    "\n",
    "frase1 = TextBlob(\"Pythom é uma linguagem fenomenal\")\n",
    "\n",
    "# Traduzir do português para o inglês\n",
    "try:\n",
    "    traducao = frase1.translate(from_lang='pt', to='en')\n",
    "    print(\"Texto traduzido:\", traducao)\n",
    "except Exception as e:\n",
    "    print(f\"Erro ao traduzir: {e}\")\n"
   ]
  },
  {
   "cell_type": "code",
   "execution_count": 33,
   "metadata": {},
   "outputs": [
    {
     "name": "stdout",
     "output_type": "stream",
     "text": [
      "Texto traduzido: Pythonは素晴らしい言語です\n"
     ]
    }
   ],
   "source": [
    "from googletrans import Translator\n",
    "\n",
    "frase2= \"Pythom é uma otima linguagem\"\n",
    "\n",
    "translator = Translator()\n",
    "\n",
    "try:\n",
    "    traducao = translator.translate(frase2,src='pt',dest='ja')\n",
    "    print(\"Texto traduzido:\",traducao.text)\n",
    "except Exception as e:\n",
    "    print(f\"Erro ao traduzir {e}\")"
   ]
  },
  {
   "cell_type": "markdown",
   "metadata": {},
   "source": [
    "# Analise de sentimento\n",
    "- utilizando a biblioteca __pattern__\n",
    "- Por padrão o textblob utiliza a base lexica\n",
    "- é possivel alterar o classificador para utilizar machine learning"
   ]
  },
  {
   "cell_type": "code",
   "execution_count": 37,
   "metadata": {},
   "outputs": [
    {
     "data": {
      "text/plain": [
       "Sentiment(polarity=0.8, subjectivity=0.75)"
      ]
     },
     "execution_count": 37,
     "metadata": {},
     "output_type": "execute_result"
    }
   ],
   "source": [
    "frase = TextBlob(\"python is a great langueage for datascience\")\n",
    "frase.sentiment\n"
   ]
  },
  {
   "cell_type": "code",
   "execution_count": 38,
   "metadata": {},
   "outputs": [
    {
     "data": {
      "text/plain": [
       "Sentiment(polarity=-1.0, subjectivity=1.0)"
      ]
     },
     "execution_count": 38,
     "metadata": {},
     "output_type": "execute_result"
    }
   ],
   "source": [
    "frase = TextBlob(\"python is a terrible langueage for datascience\")\n",
    "frase.sentiment\n"
   ]
  },
  {
   "cell_type": "markdown",
   "metadata": {},
   "source": [
    "A analise de sentimentos a __Polaridade__ refere-se a identificação da atitude expressa em um texto. Ela indifca se o sentimento é positivo, negativo ou neutro. Por exemplo \"Eu amo este produto\" tem uma polaridade positiva, enquanto \"Eu odeio este produto\" tem uma polaridade negativa.\n",
    "\n",
    "__Subjetividade__ por outro lado mede a quantidade de opnião pessoal e informação subjetiva em um texto em comparação com a informação objetiva ou factual. Exemplo \"EU acho que este é o melhor produto\" é subjetivo porque expressa uma opnião pessoal"
   ]
  },
  {
   "cell_type": "code",
   "execution_count": null,
   "metadata": {},
   "outputs": [],
   "source": []
  }
 ],
 "metadata": {
  "kernelspec": {
   "display_name": "base",
   "language": "python",
   "name": "python3"
  },
  "language_info": {
   "codemirror_mode": {
    "name": "ipython",
    "version": 3
   },
   "file_extension": ".py",
   "mimetype": "text/x-python",
   "name": "python",
   "nbconvert_exporter": "python",
   "pygments_lexer": "ipython3",
   "version": "3.11.7"
  }
 },
 "nbformat": 4,
 "nbformat_minor": 2
}
