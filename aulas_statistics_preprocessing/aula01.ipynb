{
 "cells": [
  {
   "cell_type": "markdown",
   "metadata": {},
   "source": [
    "# Simple random sample\n",
    "- Amostragem Aleatoria simples\n",
    "\n",
    "Consiste em um determinado numero de elementos retirados da população de forma aleatoria"
   ]
  },
  {
   "cell_type": "code",
   "execution_count": 1,
   "metadata": {},
   "outputs": [],
   "source": [
    "import pandas as pd"
   ]
  },
  {
   "cell_type": "code",
   "execution_count": 2,
   "metadata": {},
   "outputs": [],
   "source": [
    "df = pd.read_csv(\"sample_data/covid19.csv\")"
   ]
  },
  {
   "cell_type": "code",
   "execution_count": 3,
   "metadata": {},
   "outputs": [
    {
     "name": "stdout",
     "output_type": "stream",
     "text": [
      "<class 'pandas.core.frame.DataFrame'>\n",
      "RangeIndex: 50982 entries, 0 to 50981\n",
      "Data columns (total 12 columns):\n",
      " #   Column              Non-Null Count  Dtype  \n",
      "---  ------              --------------  -----  \n",
      " 0   case_id             0 non-null      float64\n",
      " 1   provincial_case_id  50982 non-null  int64  \n",
      " 2   age                 50982 non-null  object \n",
      " 3   sex                 50982 non-null  object \n",
      " 4   health_region       50982 non-null  object \n",
      " 5   province            50982 non-null  object \n",
      " 6   country             50982 non-null  object \n",
      " 7   date_report         50982 non-null  object \n",
      " 8   report_week         50982 non-null  object \n",
      " 9   has_travel_history  1150 non-null   object \n",
      " 10  locally_acquired    574 non-null    object \n",
      " 11  case_source         50982 non-null  object \n",
      "dtypes: float64(1), int64(1), object(10)\n",
      "memory usage: 4.7+ MB\n"
     ]
    }
   ],
   "source": [
    "df.info()"
   ]
  },
  {
   "cell_type": "code",
   "execution_count": 4,
   "metadata": {},
   "outputs": [
    {
     "data": {
      "text/html": [
       "<div>\n",
       "<style scoped>\n",
       "    .dataframe tbody tr th:only-of-type {\n",
       "        vertical-align: middle;\n",
       "    }\n",
       "\n",
       "    .dataframe tbody tr th {\n",
       "        vertical-align: top;\n",
       "    }\n",
       "\n",
       "    .dataframe thead th {\n",
       "        text-align: right;\n",
       "    }\n",
       "</style>\n",
       "<table border=\"1\" class=\"dataframe\">\n",
       "  <thead>\n",
       "    <tr style=\"text-align: right;\">\n",
       "      <th></th>\n",
       "      <th>case_id</th>\n",
       "      <th>provincial_case_id</th>\n",
       "      <th>age</th>\n",
       "      <th>sex</th>\n",
       "      <th>health_region</th>\n",
       "      <th>province</th>\n",
       "      <th>country</th>\n",
       "      <th>date_report</th>\n",
       "      <th>report_week</th>\n",
       "      <th>has_travel_history</th>\n",
       "      <th>locally_acquired</th>\n",
       "      <th>case_source</th>\n",
       "    </tr>\n",
       "  </thead>\n",
       "  <tbody>\n",
       "    <tr>\n",
       "      <th>0</th>\n",
       "      <td>NaN</td>\n",
       "      <td>1</td>\n",
       "      <td>50-59</td>\n",
       "      <td>Male</td>\n",
       "      <td>Toronto</td>\n",
       "      <td>Ontario</td>\n",
       "      <td>Canada</td>\n",
       "      <td>2020-01-25</td>\n",
       "      <td>2020-01-19</td>\n",
       "      <td>t</td>\n",
       "      <td>NaN</td>\n",
       "      <td>(1) https://news.ontario.ca/mohltc/en/2020/01/...</td>\n",
       "    </tr>\n",
       "    <tr>\n",
       "      <th>1</th>\n",
       "      <td>NaN</td>\n",
       "      <td>2</td>\n",
       "      <td>50-59</td>\n",
       "      <td>Female</td>\n",
       "      <td>Toronto</td>\n",
       "      <td>Ontario</td>\n",
       "      <td>Canada</td>\n",
       "      <td>2020-01-27</td>\n",
       "      <td>2020-01-26</td>\n",
       "      <td>t</td>\n",
       "      <td>NaN</td>\n",
       "      <td>(1) https://news.ontario.ca/mohltc/en/2020/01/...</td>\n",
       "    </tr>\n",
       "    <tr>\n",
       "      <th>2</th>\n",
       "      <td>NaN</td>\n",
       "      <td>1</td>\n",
       "      <td>40-49</td>\n",
       "      <td>Male</td>\n",
       "      <td>Vancouver Coastal</td>\n",
       "      <td>BC</td>\n",
       "      <td>Canada</td>\n",
       "      <td>2020-01-28</td>\n",
       "      <td>2020-01-26</td>\n",
       "      <td>t</td>\n",
       "      <td>NaN</td>\n",
       "      <td>https://news.gov.bc.ca/releases/2020HLTH0015-0...</td>\n",
       "    </tr>\n",
       "    <tr>\n",
       "      <th>3</th>\n",
       "      <td>NaN</td>\n",
       "      <td>3</td>\n",
       "      <td>20-29</td>\n",
       "      <td>Female</td>\n",
       "      <td>Middlesex-London</td>\n",
       "      <td>Ontario</td>\n",
       "      <td>Canada</td>\n",
       "      <td>2020-01-31</td>\n",
       "      <td>2020-01-26</td>\n",
       "      <td>t</td>\n",
       "      <td>NaN</td>\n",
       "      <td>(1) https://news.ontario.ca/mohltc/en/2020/01/...</td>\n",
       "    </tr>\n",
       "    <tr>\n",
       "      <th>4</th>\n",
       "      <td>NaN</td>\n",
       "      <td>2</td>\n",
       "      <td>50-59</td>\n",
       "      <td>Female</td>\n",
       "      <td>Vancouver Coastal</td>\n",
       "      <td>BC</td>\n",
       "      <td>Canada</td>\n",
       "      <td>2020-02-04</td>\n",
       "      <td>2020-02-02</td>\n",
       "      <td>f</td>\n",
       "      <td>Close Contact</td>\n",
       "      <td>https://news.gov.bc.ca/releases/2020HLTH0023-0...</td>\n",
       "    </tr>\n",
       "  </tbody>\n",
       "</table>\n",
       "</div>"
      ],
      "text/plain": [
       "   case_id  provincial_case_id    age     sex      health_region province  \\\n",
       "0      NaN                   1  50-59    Male            Toronto  Ontario   \n",
       "1      NaN                   2  50-59  Female            Toronto  Ontario   \n",
       "2      NaN                   1  40-49    Male  Vancouver Coastal       BC   \n",
       "3      NaN                   3  20-29  Female   Middlesex-London  Ontario   \n",
       "4      NaN                   2  50-59  Female  Vancouver Coastal       BC   \n",
       "\n",
       "  country date_report report_week has_travel_history locally_acquired  \\\n",
       "0  Canada  2020-01-25  2020-01-19                  t              NaN   \n",
       "1  Canada  2020-01-27  2020-01-26                  t              NaN   \n",
       "2  Canada  2020-01-28  2020-01-26                  t              NaN   \n",
       "3  Canada  2020-01-31  2020-01-26                  t              NaN   \n",
       "4  Canada  2020-02-04  2020-02-02                  f    Close Contact   \n",
       "\n",
       "                                         case_source  \n",
       "0  (1) https://news.ontario.ca/mohltc/en/2020/01/...  \n",
       "1  (1) https://news.ontario.ca/mohltc/en/2020/01/...  \n",
       "2  https://news.gov.bc.ca/releases/2020HLTH0015-0...  \n",
       "3  (1) https://news.ontario.ca/mohltc/en/2020/01/...  \n",
       "4  https://news.gov.bc.ca/releases/2020HLTH0023-0...  "
      ]
     },
     "execution_count": 4,
     "metadata": {},
     "output_type": "execute_result"
    }
   ],
   "source": [
    "df.head()"
   ]
  },
  {
   "cell_type": "markdown",
   "metadata": {},
   "source": [
    "__Criando uma amostra com apenas 1000 registros apartir do conjunto de dados__"
   ]
  },
  {
   "cell_type": "code",
   "execution_count": 5,
   "metadata": {},
   "outputs": [],
   "source": [
    "df_sample = df.sample(n=1000)"
   ]
  },
  {
   "cell_type": "code",
   "execution_count": 6,
   "metadata": {},
   "outputs": [
    {
     "name": "stdout",
     "output_type": "stream",
     "text": [
      "<class 'pandas.core.frame.DataFrame'>\n",
      "Index: 1000 entries, 2788 to 21975\n",
      "Data columns (total 12 columns):\n",
      " #   Column              Non-Null Count  Dtype  \n",
      "---  ------              --------------  -----  \n",
      " 0   case_id             0 non-null      float64\n",
      " 1   provincial_case_id  1000 non-null   int64  \n",
      " 2   age                 1000 non-null   object \n",
      " 3   sex                 1000 non-null   object \n",
      " 4   health_region       1000 non-null   object \n",
      " 5   province            1000 non-null   object \n",
      " 6   country             1000 non-null   object \n",
      " 7   date_report         1000 non-null   object \n",
      " 8   report_week         1000 non-null   object \n",
      " 9   has_travel_history  24 non-null     object \n",
      " 10  locally_acquired    15 non-null     object \n",
      " 11  case_source         1000 non-null   object \n",
      "dtypes: float64(1), int64(1), object(10)\n",
      "memory usage: 101.6+ KB\n"
     ]
    }
   ],
   "source": [
    "df_sample.info()"
   ]
  },
  {
   "cell_type": "markdown",
   "metadata": {},
   "source": [
    "# __amostragem Aleatoria estratificada__"
   ]
  },
  {
   "cell_type": "code",
   "execution_count": 7,
   "metadata": {},
   "outputs": [],
   "source": [
    "from sklearn.model_selection import train_test_split#Importando o metodo tran_test_split para fazer a amostragem"
   ]
  },
  {
   "cell_type": "markdown",
   "metadata": {},
   "source": [
    "Contagem de registro"
   ]
  },
  {
   "cell_type": "code",
   "execution_count": 8,
   "metadata": {},
   "outputs": [
    {
     "data": {
      "text/plain": [
       "province\n",
       "Quebec           25757\n",
       "Ontario          16337\n",
       "Alberta           4850\n",
       "BC                2053\n",
       "Nova Scotia        915\n",
       "Saskatchewan       366\n",
       "Manitoba           272\n",
       "NL                 258\n",
       "New Brunswick      118\n",
       "PEI                 27\n",
       "Repatriated         13\n",
       "Yukon               11\n",
       "NWT                  5\n",
       "Name: count, dtype: int64"
      ]
     },
     "execution_count": 8,
     "metadata": {},
     "output_type": "execute_result"
    }
   ],
   "source": [
    "df['province'].value_counts()"
   ]
  },
  {
   "cell_type": "markdown",
   "metadata": {},
   "source": [
    "__Gerando amostragem estratificada__"
   ]
  },
  {
   "cell_type": "code",
   "execution_count": 9,
   "metadata": {},
   "outputs": [],
   "source": [
    "X_train,X_test, y_train,y_test = train_test_split(df.drop('province',axis=1),\n",
    "                                                  df['province'],\n",
    "                                                  stratify=df['province'],\n",
    "                                                            test_size = 0.20)"
   ]
  },
  {
   "cell_type": "markdown",
   "metadata": {},
   "source": [
    "__Verificando a forma dos dados__"
   ]
  },
  {
   "cell_type": "code",
   "execution_count": 10,
   "metadata": {},
   "outputs": [
    {
     "data": {
      "text/plain": [
       "(10197,)"
      ]
     },
     "execution_count": 10,
     "metadata": {},
     "output_type": "execute_result"
    }
   ],
   "source": [
    "y_test.shape"
   ]
  },
  {
   "cell_type": "markdown",
   "metadata": {},
   "source": [
    "__Verificando a contagem de registro__"
   ]
  },
  {
   "cell_type": "code",
   "execution_count": 11,
   "metadata": {},
   "outputs": [
    {
     "data": {
      "text/plain": [
       "province\n",
       "Quebec           5152\n",
       "Ontario          3267\n",
       "Alberta           970\n",
       "BC                411\n",
       "Nova Scotia       183\n",
       "Saskatchewan       73\n",
       "Manitoba           54\n",
       "NL                 52\n",
       "New Brunswick      24\n",
       "PEI                 5\n",
       "Repatriated         3\n",
       "Yukon               2\n",
       "NWT                 1\n",
       "Name: count, dtype: int64"
      ]
     },
     "execution_count": 11,
     "metadata": {},
     "output_type": "execute_result"
    }
   ],
   "source": [
    "y_test.value_counts()"
   ]
  },
  {
   "cell_type": "code",
   "execution_count": 18,
   "metadata": {},
   "outputs": [
    {
     "name": "stdout",
     "output_type": "stream",
     "text": [
      "Proporção das classes no conjunto de treino:\n",
      "province\n",
      "Quebec           0.505210\n",
      "Ontario          0.320461\n",
      "Alberta          0.095133\n",
      "BC               0.040260\n",
      "Nova Scotia      0.017948\n",
      "Saskatchewan     0.007184\n",
      "Manitoba         0.005345\n",
      "NL               0.005051\n",
      "New Brunswick    0.002305\n",
      "PEI              0.000539\n",
      "Repatriated      0.000245\n",
      "Yukon            0.000221\n",
      "NWT              0.000098\n",
      "Name: count, dtype: float64\n",
      "\n",
      "Proporção das classes no conjunto de teste:\n",
      "province\n",
      "Quebec           0.505247\n",
      "Ontario          0.320388\n",
      "Alberta          0.095126\n",
      "BC               0.040306\n",
      "Nova Scotia      0.017946\n",
      "Saskatchewan     0.007159\n",
      "Manitoba         0.005296\n",
      "NL               0.005100\n",
      "New Brunswick    0.002354\n",
      "PEI              0.000490\n",
      "Repatriated      0.000294\n",
      "Yukon            0.000196\n",
      "NWT              0.000098\n",
      "Name: count, dtype: float64\n"
     ]
    }
   ],
   "source": [
    "print(\"Proporção das classes no conjunto de treino:\")\n",
    "print(y_train.value_counts() / len(y_train))\n",
    "\n",
    "print(\"\\nProporção das classes no conjunto de teste:\")\n",
    "print(y_test.value_counts() / len(y_test))\n"
   ]
  },
  {
   "cell_type": "markdown",
   "metadata": {},
   "source": [
    "# __Amostragem Sistematica__"
   ]
  },
  {
   "cell_type": "markdown",
   "metadata": {},
   "source": [
    "Gerando semenetes aleatorias"
   ]
  },
  {
   "cell_type": "code",
   "execution_count": 12,
   "metadata": {},
   "outputs": [],
   "source": [
    "import numpy as np"
   ]
  },
  {
   "cell_type": "code",
   "execution_count": 21,
   "metadata": {},
   "outputs": [],
   "source": [
    "n_amostra = 100\n",
    "\n",
    "indice_inicial = np.random.randint(0, df.shape[0] - n_amostra + 1)"
   ]
  },
  {
   "cell_type": "code",
   "execution_count": 22,
   "metadata": {},
   "outputs": [],
   "source": [
    "passo = 7\n",
    "amostra_sistematica = df.iloc[indice_inicial:indice_inicial + n_amostra:passo]"
   ]
  },
  {
   "cell_type": "code",
   "execution_count": 24,
   "metadata": {},
   "outputs": [
    {
     "data": {
      "text/html": [
       "<div>\n",
       "<style scoped>\n",
       "    .dataframe tbody tr th:only-of-type {\n",
       "        vertical-align: middle;\n",
       "    }\n",
       "\n",
       "    .dataframe tbody tr th {\n",
       "        vertical-align: top;\n",
       "    }\n",
       "\n",
       "    .dataframe thead th {\n",
       "        text-align: right;\n",
       "    }\n",
       "</style>\n",
       "<table border=\"1\" class=\"dataframe\">\n",
       "  <thead>\n",
       "    <tr style=\"text-align: right;\">\n",
       "      <th></th>\n",
       "      <th>case_id</th>\n",
       "      <th>provincial_case_id</th>\n",
       "      <th>age</th>\n",
       "      <th>sex</th>\n",
       "      <th>health_region</th>\n",
       "      <th>province</th>\n",
       "      <th>country</th>\n",
       "      <th>date_report</th>\n",
       "      <th>report_week</th>\n",
       "      <th>has_travel_history</th>\n",
       "      <th>locally_acquired</th>\n",
       "      <th>case_source</th>\n",
       "    </tr>\n",
       "  </thead>\n",
       "  <tbody>\n",
       "    <tr>\n",
       "      <th>14975</th>\n",
       "      <td>NaN</td>\n",
       "      <td>7512</td>\n",
       "      <td>Not Reported</td>\n",
       "      <td>Not Reported</td>\n",
       "      <td>Montréal</td>\n",
       "      <td>Quebec</td>\n",
       "      <td>Canada</td>\n",
       "      <td>2020-04-05</td>\n",
       "      <td>2020-04-05</td>\n",
       "      <td>NaN</td>\n",
       "      <td>NaN</td>\n",
       "      <td>https://www.quebec.ca/sante/problemes-de-sante...</td>\n",
       "    </tr>\n",
       "    <tr>\n",
       "      <th>14982</th>\n",
       "      <td>NaN</td>\n",
       "      <td>7519</td>\n",
       "      <td>Not Reported</td>\n",
       "      <td>Not Reported</td>\n",
       "      <td>Montréal</td>\n",
       "      <td>Quebec</td>\n",
       "      <td>Canada</td>\n",
       "      <td>2020-04-05</td>\n",
       "      <td>2020-04-05</td>\n",
       "      <td>NaN</td>\n",
       "      <td>NaN</td>\n",
       "      <td>https://www.quebec.ca/sante/problemes-de-sante...</td>\n",
       "    </tr>\n",
       "    <tr>\n",
       "      <th>14989</th>\n",
       "      <td>NaN</td>\n",
       "      <td>7526</td>\n",
       "      <td>Not Reported</td>\n",
       "      <td>Not Reported</td>\n",
       "      <td>Montréal</td>\n",
       "      <td>Quebec</td>\n",
       "      <td>Canada</td>\n",
       "      <td>2020-04-05</td>\n",
       "      <td>2020-04-05</td>\n",
       "      <td>NaN</td>\n",
       "      <td>NaN</td>\n",
       "      <td>https://www.quebec.ca/sante/problemes-de-sante...</td>\n",
       "    </tr>\n",
       "    <tr>\n",
       "      <th>14996</th>\n",
       "      <td>NaN</td>\n",
       "      <td>7533</td>\n",
       "      <td>Not Reported</td>\n",
       "      <td>Not Reported</td>\n",
       "      <td>Montréal</td>\n",
       "      <td>Quebec</td>\n",
       "      <td>Canada</td>\n",
       "      <td>2020-04-05</td>\n",
       "      <td>2020-04-05</td>\n",
       "      <td>NaN</td>\n",
       "      <td>NaN</td>\n",
       "      <td>https://www.quebec.ca/sante/problemes-de-sante...</td>\n",
       "    </tr>\n",
       "    <tr>\n",
       "      <th>15003</th>\n",
       "      <td>NaN</td>\n",
       "      <td>7540</td>\n",
       "      <td>Not Reported</td>\n",
       "      <td>Not Reported</td>\n",
       "      <td>Montréal</td>\n",
       "      <td>Quebec</td>\n",
       "      <td>Canada</td>\n",
       "      <td>2020-04-05</td>\n",
       "      <td>2020-04-05</td>\n",
       "      <td>NaN</td>\n",
       "      <td>NaN</td>\n",
       "      <td>https://www.quebec.ca/sante/problemes-de-sante...</td>\n",
       "    </tr>\n",
       "    <tr>\n",
       "      <th>15010</th>\n",
       "      <td>NaN</td>\n",
       "      <td>7547</td>\n",
       "      <td>Not Reported</td>\n",
       "      <td>Not Reported</td>\n",
       "      <td>Montréal</td>\n",
       "      <td>Quebec</td>\n",
       "      <td>Canada</td>\n",
       "      <td>2020-04-05</td>\n",
       "      <td>2020-04-05</td>\n",
       "      <td>NaN</td>\n",
       "      <td>NaN</td>\n",
       "      <td>https://www.quebec.ca/sante/problemes-de-sante...</td>\n",
       "    </tr>\n",
       "    <tr>\n",
       "      <th>15017</th>\n",
       "      <td>NaN</td>\n",
       "      <td>7554</td>\n",
       "      <td>Not Reported</td>\n",
       "      <td>Not Reported</td>\n",
       "      <td>Montréal</td>\n",
       "      <td>Quebec</td>\n",
       "      <td>Canada</td>\n",
       "      <td>2020-04-05</td>\n",
       "      <td>2020-04-05</td>\n",
       "      <td>NaN</td>\n",
       "      <td>NaN</td>\n",
       "      <td>https://www.quebec.ca/sante/problemes-de-sante...</td>\n",
       "    </tr>\n",
       "    <tr>\n",
       "      <th>15024</th>\n",
       "      <td>NaN</td>\n",
       "      <td>7561</td>\n",
       "      <td>Not Reported</td>\n",
       "      <td>Not Reported</td>\n",
       "      <td>Montréal</td>\n",
       "      <td>Quebec</td>\n",
       "      <td>Canada</td>\n",
       "      <td>2020-04-05</td>\n",
       "      <td>2020-04-05</td>\n",
       "      <td>NaN</td>\n",
       "      <td>NaN</td>\n",
       "      <td>https://www.quebec.ca/sante/problemes-de-sante...</td>\n",
       "    </tr>\n",
       "    <tr>\n",
       "      <th>15031</th>\n",
       "      <td>NaN</td>\n",
       "      <td>7568</td>\n",
       "      <td>Not Reported</td>\n",
       "      <td>Not Reported</td>\n",
       "      <td>Montréal</td>\n",
       "      <td>Quebec</td>\n",
       "      <td>Canada</td>\n",
       "      <td>2020-04-05</td>\n",
       "      <td>2020-04-05</td>\n",
       "      <td>NaN</td>\n",
       "      <td>NaN</td>\n",
       "      <td>https://www.quebec.ca/sante/problemes-de-sante...</td>\n",
       "    </tr>\n",
       "    <tr>\n",
       "      <th>15038</th>\n",
       "      <td>NaN</td>\n",
       "      <td>7575</td>\n",
       "      <td>Not Reported</td>\n",
       "      <td>Not Reported</td>\n",
       "      <td>Montréal</td>\n",
       "      <td>Quebec</td>\n",
       "      <td>Canada</td>\n",
       "      <td>2020-04-05</td>\n",
       "      <td>2020-04-05</td>\n",
       "      <td>NaN</td>\n",
       "      <td>NaN</td>\n",
       "      <td>https://www.quebec.ca/sante/problemes-de-sante...</td>\n",
       "    </tr>\n",
       "    <tr>\n",
       "      <th>15045</th>\n",
       "      <td>NaN</td>\n",
       "      <td>7582</td>\n",
       "      <td>Not Reported</td>\n",
       "      <td>Not Reported</td>\n",
       "      <td>Montréal</td>\n",
       "      <td>Quebec</td>\n",
       "      <td>Canada</td>\n",
       "      <td>2020-04-05</td>\n",
       "      <td>2020-04-05</td>\n",
       "      <td>NaN</td>\n",
       "      <td>NaN</td>\n",
       "      <td>https://www.quebec.ca/sante/problemes-de-sante...</td>\n",
       "    </tr>\n",
       "    <tr>\n",
       "      <th>15052</th>\n",
       "      <td>NaN</td>\n",
       "      <td>7589</td>\n",
       "      <td>Not Reported</td>\n",
       "      <td>Not Reported</td>\n",
       "      <td>Montréal</td>\n",
       "      <td>Quebec</td>\n",
       "      <td>Canada</td>\n",
       "      <td>2020-04-05</td>\n",
       "      <td>2020-04-05</td>\n",
       "      <td>NaN</td>\n",
       "      <td>NaN</td>\n",
       "      <td>https://www.quebec.ca/sante/problemes-de-sante...</td>\n",
       "    </tr>\n",
       "    <tr>\n",
       "      <th>15059</th>\n",
       "      <td>NaN</td>\n",
       "      <td>7596</td>\n",
       "      <td>Not Reported</td>\n",
       "      <td>Not Reported</td>\n",
       "      <td>Montréal</td>\n",
       "      <td>Quebec</td>\n",
       "      <td>Canada</td>\n",
       "      <td>2020-04-05</td>\n",
       "      <td>2020-04-05</td>\n",
       "      <td>NaN</td>\n",
       "      <td>NaN</td>\n",
       "      <td>https://www.quebec.ca/sante/problemes-de-sante...</td>\n",
       "    </tr>\n",
       "    <tr>\n",
       "      <th>15066</th>\n",
       "      <td>NaN</td>\n",
       "      <td>7603</td>\n",
       "      <td>Not Reported</td>\n",
       "      <td>Not Reported</td>\n",
       "      <td>Montréal</td>\n",
       "      <td>Quebec</td>\n",
       "      <td>Canada</td>\n",
       "      <td>2020-04-05</td>\n",
       "      <td>2020-04-05</td>\n",
       "      <td>NaN</td>\n",
       "      <td>NaN</td>\n",
       "      <td>https://www.quebec.ca/sante/problemes-de-sante...</td>\n",
       "    </tr>\n",
       "    <tr>\n",
       "      <th>15073</th>\n",
       "      <td>NaN</td>\n",
       "      <td>7610</td>\n",
       "      <td>Not Reported</td>\n",
       "      <td>Not Reported</td>\n",
       "      <td>Montréal</td>\n",
       "      <td>Quebec</td>\n",
       "      <td>Canada</td>\n",
       "      <td>2020-04-05</td>\n",
       "      <td>2020-04-05</td>\n",
       "      <td>NaN</td>\n",
       "      <td>NaN</td>\n",
       "      <td>https://www.quebec.ca/sante/problemes-de-sante...</td>\n",
       "    </tr>\n",
       "  </tbody>\n",
       "</table>\n",
       "</div>"
      ],
      "text/plain": [
       "       case_id  provincial_case_id           age           sex health_region  \\\n",
       "14975      NaN                7512  Not Reported  Not Reported      Montréal   \n",
       "14982      NaN                7519  Not Reported  Not Reported      Montréal   \n",
       "14989      NaN                7526  Not Reported  Not Reported      Montréal   \n",
       "14996      NaN                7533  Not Reported  Not Reported      Montréal   \n",
       "15003      NaN                7540  Not Reported  Not Reported      Montréal   \n",
       "15010      NaN                7547  Not Reported  Not Reported      Montréal   \n",
       "15017      NaN                7554  Not Reported  Not Reported      Montréal   \n",
       "15024      NaN                7561  Not Reported  Not Reported      Montréal   \n",
       "15031      NaN                7568  Not Reported  Not Reported      Montréal   \n",
       "15038      NaN                7575  Not Reported  Not Reported      Montréal   \n",
       "15045      NaN                7582  Not Reported  Not Reported      Montréal   \n",
       "15052      NaN                7589  Not Reported  Not Reported      Montréal   \n",
       "15059      NaN                7596  Not Reported  Not Reported      Montréal   \n",
       "15066      NaN                7603  Not Reported  Not Reported      Montréal   \n",
       "15073      NaN                7610  Not Reported  Not Reported      Montréal   \n",
       "\n",
       "      province country date_report report_week has_travel_history  \\\n",
       "14975   Quebec  Canada  2020-04-05  2020-04-05                NaN   \n",
       "14982   Quebec  Canada  2020-04-05  2020-04-05                NaN   \n",
       "14989   Quebec  Canada  2020-04-05  2020-04-05                NaN   \n",
       "14996   Quebec  Canada  2020-04-05  2020-04-05                NaN   \n",
       "15003   Quebec  Canada  2020-04-05  2020-04-05                NaN   \n",
       "15010   Quebec  Canada  2020-04-05  2020-04-05                NaN   \n",
       "15017   Quebec  Canada  2020-04-05  2020-04-05                NaN   \n",
       "15024   Quebec  Canada  2020-04-05  2020-04-05                NaN   \n",
       "15031   Quebec  Canada  2020-04-05  2020-04-05                NaN   \n",
       "15038   Quebec  Canada  2020-04-05  2020-04-05                NaN   \n",
       "15045   Quebec  Canada  2020-04-05  2020-04-05                NaN   \n",
       "15052   Quebec  Canada  2020-04-05  2020-04-05                NaN   \n",
       "15059   Quebec  Canada  2020-04-05  2020-04-05                NaN   \n",
       "15066   Quebec  Canada  2020-04-05  2020-04-05                NaN   \n",
       "15073   Quebec  Canada  2020-04-05  2020-04-05                NaN   \n",
       "\n",
       "      locally_acquired                                        case_source  \n",
       "14975              NaN  https://www.quebec.ca/sante/problemes-de-sante...  \n",
       "14982              NaN  https://www.quebec.ca/sante/problemes-de-sante...  \n",
       "14989              NaN  https://www.quebec.ca/sante/problemes-de-sante...  \n",
       "14996              NaN  https://www.quebec.ca/sante/problemes-de-sante...  \n",
       "15003              NaN  https://www.quebec.ca/sante/problemes-de-sante...  \n",
       "15010              NaN  https://www.quebec.ca/sante/problemes-de-sante...  \n",
       "15017              NaN  https://www.quebec.ca/sante/problemes-de-sante...  \n",
       "15024              NaN  https://www.quebec.ca/sante/problemes-de-sante...  \n",
       "15031              NaN  https://www.quebec.ca/sante/problemes-de-sante...  \n",
       "15038              NaN  https://www.quebec.ca/sante/problemes-de-sante...  \n",
       "15045              NaN  https://www.quebec.ca/sante/problemes-de-sante...  \n",
       "15052              NaN  https://www.quebec.ca/sante/problemes-de-sante...  \n",
       "15059              NaN  https://www.quebec.ca/sante/problemes-de-sante...  \n",
       "15066              NaN  https://www.quebec.ca/sante/problemes-de-sante...  \n",
       "15073              NaN  https://www.quebec.ca/sante/problemes-de-sante...  "
      ]
     },
     "execution_count": 24,
     "metadata": {},
     "output_type": "execute_result"
    }
   ],
   "source": [
    "amostra_sistematica"
   ]
  },
  {
   "cell_type": "code",
   "execution_count": 14,
   "metadata": {},
   "outputs": [],
   "source": [
    "import numpy as np \n",
    "import matplotlib.pyplot as plt\n",
    "from cycler import cycler\n",
    "from scipy.stats import gmean, hmean\n"
   ]
  },
  {
   "cell_type": "code",
   "execution_count": 2,
   "metadata": {},
   "outputs": [],
   "source": [
    "dados = [1,2,3,4,5]"
   ]
  },
  {
   "cell_type": "code",
   "execution_count": 7,
   "metadata": {},
   "outputs": [
    {
     "data": {
      "text/plain": [
       "3.0"
      ]
     },
     "execution_count": 7,
     "metadata": {},
     "output_type": "execute_result"
    }
   ],
   "source": [
    "np.mean(dados)#Media aritimetica"
   ]
  },
  {
   "cell_type": "code",
   "execution_count": 8,
   "metadata": {},
   "outputs": [
    {
     "data": {
      "text/plain": [
       "2.6051710846973517"
      ]
     },
     "execution_count": 8,
     "metadata": {},
     "output_type": "execute_result"
    }
   ],
   "source": [
    "gmean(dados)#media geometrica"
   ]
  },
  {
   "cell_type": "code",
   "execution_count": 9,
   "metadata": {},
   "outputs": [
    {
     "data": {
      "text/plain": [
       "2.18978102189781"
      ]
     },
     "execution_count": 9,
     "metadata": {},
     "output_type": "execute_result"
    }
   ],
   "source": [
    "hmean(dados)#media harmonica"
   ]
  },
  {
   "cell_type": "code",
   "execution_count": 15,
   "metadata": {},
   "outputs": [
    {
     "ename": "SyntaxError",
     "evalue": "invalid syntax (2201124223.py, line 10)",
     "output_type": "error",
     "traceback": [
      "\u001b[1;36m  Cell \u001b[1;32mIn[15], line 10\u001b[1;36m\u001b[0m\n\u001b[1;33m    plt.figure(figsize=(8,6))plt.plot(posicoes, dados, 'o', color='red', markersize=15, label='Dados')  # Use 'o' para marcadores\u001b[0m\n\u001b[1;37m                             ^\u001b[0m\n\u001b[1;31mSyntaxError\u001b[0m\u001b[1;31m:\u001b[0m invalid syntax\n"
     ]
    }
   ],
   "source": [
    "def plot_line(dados, valor_central):\n",
    "    if valor_central in dados:\n",
    "        posicao_central = dados.index(valor_central) + 1\n",
    "    else:\n",
    "        dados.append(valor_central)\n",
    "        dados.sort()\n",
    "        posicao_central = dados.index(valor_central)+1\n",
    "\n",
    "    posicoes = np.arange(1,len(dados)+1,1)\n",
    "    plt.figure(figsize=(8,6))plt.plot(posicoes, dados, 'o', color='red', markersize=15, label='Dados')  # Use 'o' para marcadores\n",
    "    plt.plot(posicao_central, valor_central, '-', color='blue', markersize=15, label='Valor Central')  # Use '-' para linha\n",
    "    plt.show()\n"
   ]
  },
  {
   "cell_type": "code",
   "execution_count": 17,
   "metadata": {},
   "outputs": [
    {
     "data": {
      "text/plain": [
       "<function matplotlib.pyplot.show(close=None, block=None)>"
      ]
     },
     "execution_count": 17,
     "metadata": {},
     "output_type": "execute_result"
    }
   ],
   "source": [
    "def plot_line(dados, valor_central):\n",
    "  # Calcule a posição central independente do valor estar presente ou não\n",
    "  if valor_central in dados:\n",
    "    posicao_central = dados.index(valor_central) + 1\n",
    "  else:\n",
    "    dados.append(valor_central)\n",
    "    dados.sort()\n",
    "    posicao_central = dados.index(valor_central) + 1\n",
    "\n",
    "  posicoes = np.arange(1, len(dados)+1, 1)\n",
    "  plt.figure(figsize=(8,6))\n",
    "  plt.plot(posicoes, dados, 'o', color='red', markersize=15, label='Dados')\n",
    "  plt.plot(posicao_central, valor_central, '-', color='blue', markersize=15, label='Valor Central')\n",
    "plt.show"
   ]
  },
  {
   "cell_type": "markdown",
   "metadata": {},
   "source": [
    "# Reescala de dados"
   ]
  },
  {
   "cell_type": "code",
   "execution_count": 4,
   "metadata": {},
   "outputs": [
    {
     "name": "stdout",
     "output_type": "stream",
     "text": [
      "Media para curitiba: 39.75\n",
      "Media para gramado: 46.25\n"
     ]
    }
   ],
   "source": [
    "aval_gramado,aval_curitiba = 3.5, 4.5\n",
    "indice_gramado,indice_curitiba = 89,75\n",
    "print(f'Media para curitiba: {np.mean([aval_curitiba,indice_curitiba])}')\n",
    "print(f'Media para gramado: {np.mean([aval_gramado,indice_gramado])}')"
   ]
  },
  {
   "cell_type": "markdown",
   "metadata": {},
   "source": [
    "NOTA a media aritimetica de curitiba esta menor"
   ]
  },
  {
   "cell_type": "code",
   "execution_count": 8,
   "metadata": {},
   "outputs": [
    {
     "name": "stdout",
     "output_type": "stream",
     "text": [
      "Valores reescalados: [90.0, 70.0]\n"
     ]
    }
   ],
   "source": [
    "print(f'Valores reescalados: {[aval_curitiba*20,aval_gramado*20]}')"
   ]
  },
  {
   "cell_type": "code",
   "execution_count": 9,
   "metadata": {},
   "outputs": [
    {
     "name": "stdout",
     "output_type": "stream",
     "text": [
      "Media para curitiba: 82.5\n",
      "Media para gramado: 79.5\n"
     ]
    }
   ],
   "source": [
    "print(f'Media para curitiba: {np.mean([aval_curitiba*20,indice_curitiba])}')\n",
    "print(f'Media para gramado: {np.mean([aval_gramado*20,indice_gramado])}')"
   ]
  },
  {
   "cell_type": "code",
   "execution_count": 10,
   "metadata": {},
   "outputs": [
    {
     "name": "stdout",
     "output_type": "stream",
     "text": [
      "Media para curitiba: 18.371173070873837\n",
      "Media para gramado: 17.64936259472279\n"
     ]
    }
   ],
   "source": [
    "print(f'Media para curitiba: {gmean([aval_curitiba,indice_curitiba])}')\n",
    "print(f'Media para gramado: {gmean([aval_gramado,indice_gramado])}')"
   ]
  },
  {
   "cell_type": "code",
   "execution_count": 17,
   "metadata": {},
   "outputs": [
    {
     "name": "stdout",
     "output_type": "stream",
     "text": [
      "Os modos dos dados são: 4\n"
     ]
    }
   ],
   "source": [
    "import statistics as stats\n",
    "\n",
    "dados = [4, 4, 5, 5, 4, 5, 6]\n",
    "\n",
    "modo = stats.mode(dados)\n",
    "print(f\"Os modos dos dados são: {modo}\")\n"
   ]
  },
  {
   "cell_type": "code",
   "execution_count": 18,
   "metadata": {},
   "outputs": [],
   "source": [
    "from collections import Counter"
   ]
  },
  {
   "cell_type": "code",
   "execution_count": 22,
   "metadata": {},
   "outputs": [],
   "source": [
    "def calcula_moda(dados):\n",
    "    number_counts = Counter(dados)\n",
    "    print(number_counts)\n",
    "    max_count = max(number_counts.values())\n",
    "    modes = [ val for val, count in number_counts.items() if count == max_count]\n",
    "    return modes"
   ]
  },
  {
   "cell_type": "code",
   "execution_count": 23,
   "metadata": {},
   "outputs": [
    {
     "name": "stdout",
     "output_type": "stream",
     "text": [
      "Counter({4: 3, 5: 3, 6: 1})\n"
     ]
    },
    {
     "data": {
      "text/plain": [
       "[4, 5]"
      ]
     },
     "execution_count": 23,
     "metadata": {},
     "output_type": "execute_result"
    }
   ],
   "source": [
    "dados_bimodal = [4, 4, 5, 5, 4, 5, 6]\n",
    "calcula_moda(dados_bimodal)"
   ]
  },
  {
   "cell_type": "code",
   "execution_count": null,
   "metadata": {},
   "outputs": [],
   "source": []
  }
 ],
 "metadata": {
  "kernelspec": {
   "display_name": "base",
   "language": "python",
   "name": "python3"
  },
  "language_info": {
   "codemirror_mode": {
    "name": "ipython",
    "version": 3
   },
   "file_extension": ".py",
   "mimetype": "text/x-python",
   "name": "python",
   "nbconvert_exporter": "python",
   "pygments_lexer": "ipython3",
   "version": "3.11.7"
  }
 },
 "nbformat": 4,
 "nbformat_minor": 2
}
