{
 "cells": [
  {
   "cell_type": "markdown",
   "metadata": {},
   "source": [
    "# \n"
   ]
  },
  {
   "cell_type": "markdown",
   "metadata": {},
   "source": [
    "# COMANDOS E CONCEITOS BASICOS DE SQL\n",
    "- O SQL (Structured Query Languege) é a linguagem padrão para interagir com bancos de dados relacionais. Eele permite que execute diversar operações como consultar dados, manipular dados, criar e gerenciar tabelas\n",
    "\n"
   ]
  },
  {
   "cell_type": "markdown",
   "metadata": {},
   "source": [
    "# Consulta de Dados:\n",
    "- __SELECT__: Recupera dados de uma ou mais tabelas.\n",
    "    - EX: __SELECT * FROM clientes__ (seleciona todas as colunas da tabela clientes)\n",
    "- __WHERE__: Filtra os resultados da consulta com base em condições especificas.\n",
    "    - EX: __SELECT * FROM clientes WHERE cidade = 'salvador'__; (seleciona os cliente da cidade \"salvador\")\n",
    "- __ORDER BY__: Ordena os resultados da consulta por uma ou mais colunas\n",
    "    - EX: __SELECT * FROM clientes ORDER BY nome ASC__; (Ordena clientes por nome em ordem crescente)\n",
    "- __JOIN__: Combina dados de duas ou mais tabelas com base em colunas relacionadas\n",
    "    - EX: __SELECT c.nome, p.produto FROM cliente c JOIN pedidos p ON c.id = p.clientes_id;\n",
    "\n",
    "# Manipular Dados: \n",
    "- __INSERT__: Adiciona novos registros a uma tabela\n",
    "    - EX: __INSERT INTO clientes (nome, cidade) VALUES ('guilherme','salvador')__; (adiciona um novo cliente)\n",
    "- __UPDATE__: Modifica registros existentes em uma tabela\n",
    "    - EX: __UPDATE clientes SET cidade = 'Rio de janeiro' WHERE id = 10__;(Atualiza a cidade de um cliente com ID 10)\n",
    "- __DELETE__: Remove registros de uma tabela\n",
    "    - EX: __DELETE FROM clientes WHERE cidade = 'salvador';__ (Remove todos os clientes da cidade salvador)\n",
    "\n",
    "# Criar e Gerenciar Tabelas\n",
    "- __CREATE TABLE__ : Cria uma nova tabela com colunas e seus tipos de dados\n",
    "    - EX: __CREATE TABLE clientes (id INT PRIMARY KEY, nome VARCHAR (255), cidade VARCHAR(255))__; (Cria uma tabela __clientes__ com colunas __id__, __nome__ e __cidade__)\n",
    "- __ALTER TABLE__: Modifica a estrutura de uma tabela existente\n",
    "    - EX: __ALTER TABLE clientes ADD COLUNM email VARCHAR(255);__ (adiciona uma nova coluna __email__ a tabela __clientes__)\n",
    "- __DROP TABLE__: Exclui uma tabela do banco de dados\n",
    "    - EX: __DROP TABLE clientes;__ (Exclui a tabela __clientes__)"
   ]
  },
  {
   "cell_type": "markdown",
   "metadata": {},
   "source": [
    "# "
   ]
  }
 ],
 "metadata": {
  "kernelspec": {
   "display_name": "base",
   "language": "python",
   "name": "python3"
  },
  "language_info": {
   "codemirror_mode": {
    "name": "ipython",
    "version": 3
   },
   "file_extension": ".py",
   "mimetype": "text/x-python",
   "name": "python",
   "nbconvert_exporter": "python",
   "pygments_lexer": "ipython3",
   "version": "3.11.7"
  }
 },
 "nbformat": 4,
 "nbformat_minor": 2
}
