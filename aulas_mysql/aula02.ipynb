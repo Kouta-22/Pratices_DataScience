{
 "cells": [
  {
   "cell_type": "markdown",
   "metadata": {},
   "source": [
    "# Analise de string usando o operador LIKE\n",
    "- O comando __LIKE__ é um operador de comparação que permite realizar pesquisas flexíveis em uma string de dados armazenadas em tabelas do banco de dados. Ela permite encontar registros que correspondem a padrões especificos, tornando-0 uma ferramenta valiosa para filtrar e extrair dados\n"
   ]
  },
  {
   "cell_type": "markdown",
   "metadata": {},
   "source": [
    "__SQL__\n",
    "\n",
    "__SELECT__ * __FROM__ tabela_nome __WHERE__ coluna_nome __LIKE__ 'padrão_de_pesquisa'"
   ]
  },
  {
   "cell_type": "markdown",
   "metadata": {},
   "source": [
    "- __EXEMPLOS:__\n",
    "\n",
    "    __SELECT__ * __FROM__ clientes __WHERE__ nome __LIKE__ 'Ana%'(Retorna todos os clientes com o nome \"ana\")\n",
    "    \n",
    "    __SELECT__ * __FROM__ pedidos __WHERE__ data_pedido __LIKE__ '2023%'(Rerotna todos pedidos de 2023)\n",
    "\n",
    "    __SELECT__ * __FROM__ contatos __WHERE__ email __LIKE__ '%@gmail.com';(Retorna todos emais terminados com \"@gmail.com\")\n",
    "\n",
    "    __SELECT__ * __FROM__ pedidos __WHERE __ email __NOT LIKE__ '%@gmail.com';__ (Retorna todos os pedidos que não termina com \"@gmail.com\")\n",
    "\n"
   ]
  },
  {
   "cell_type": "markdown",
   "metadata": {},
   "source": [
    "# NOTA!:\n",
    "\n",
    "- O operador LIKE é case-insensitive por padrão, ou seja, ele não diferencia maiúsculas e minúsculas. Se você precisar de uma pesquisa case-sensitive, utilize a função UPPER() ou LOWER() para converter as strings para maiúsculas ou minúsculas antes da comparação."
   ]
  },
  {
   "cell_type": "markdown",
   "metadata": {},
   "source": [
    "# Analisando Agregações (GROUP BY)\n",
    "\n",
    "- A cláusula __GROUP BY__ em SQL é utilizada para organizar dados em grupos com base em valores compartilhados em uma ou mais colunas. Ela permite que você realize operações agregadas como (__COUNT, SUM, AVG, MIN, MAX__) nesses grupos.\n",
    "- apos usar o GROUP BY a instrução SELECT agrupa linhas no conjunto de resultados que possuem os mesmo valores nas colunas especificas. Essas colunas se tornam as colunas de agrupamento.\n",
    " "
   ]
  },
  {
   "cell_type": "markdown",
   "metadata": {},
   "source": [
    "# NOTA!: \n",
    "- Em alguns cados é preciso filtrar resultados em grupos\n",
    "- A clausula __WHERE__ filtra registro linha a linha, a clausula __HAVING__ filtra um grupo inteiro de linhas\n",
    "- A clausula __HAVING__ filtra registros após a função __GROUP BY__"
   ]
  },
  {
   "cell_type": "markdown",
   "metadata": {},
   "source": []
  }
 ],
 "metadata": {
  "kernelspec": {
   "display_name": "base",
   "language": "python",
   "name": "python3"
  },
  "language_info": {
   "name": "python",
   "version": "3.11.7"
  }
 },
 "nbformat": 4,
 "nbformat_minor": 2
}
