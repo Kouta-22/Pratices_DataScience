{
 "cells": [
  {
   "cell_type": "markdown",
   "id": "344bf6e6-4fe4-49d2-bc3f-7ad8c2408bce",
   "metadata": {},
   "source": [
    "*LISTA ANINHADA*\n"
   ]
  },
  {
   "cell_type": "code",
   "execution_count": 3,
   "id": "8a1f7cc6-ccda-4b0d-9f28-6090969325e9",
   "metadata": {},
   "outputs": [],
   "source": [
    "listas = [ ['cat', 'dot', 'snake'], ['porsche', 'ferrari', 'audi'], [213, 300, 400]] "
   ]
  },
  {
   "cell_type": "code",
   "execution_count": 4,
   "id": "234a36c7-8cc7-4913-a370-74623df81bfe",
   "metadata": {},
   "outputs": [
    {
     "data": {
      "text/plain": [
       "[['cat', 'dot', 'snake'], ['porsche', 'ferrari', 'audi'], [213, 300, 400]]"
      ]
     },
     "execution_count": 4,
     "metadata": {},
     "output_type": "execute_result"
    }
   ],
   "source": [
    "listas"
   ]
  },
  {
   "cell_type": "code",
   "execution_count": 6,
   "id": "e0436632-6768-450b-ba0e-bbe195a3ddd8",
   "metadata": {},
   "outputs": [
    {
     "data": {
      "text/plain": [
       "['porsche', 'ferrari', 'audi']"
      ]
     },
     "execution_count": 6,
     "metadata": {},
     "output_type": "execute_result"
    }
   ],
   "source": [
    "listas[1]"
   ]
  },
  {
   "cell_type": "code",
   "execution_count": 7,
   "id": "aad69931-e268-4d1e-81a1-227109591df8",
   "metadata": {},
   "outputs": [
    {
     "data": {
      "text/plain": [
       "['cat', 'dot', 'snake']"
      ]
     },
     "execution_count": 7,
     "metadata": {},
     "output_type": "execute_result"
    }
   ],
   "source": [
    "listas[0]"
   ]
  },
  {
   "cell_type": "code",
   "execution_count": 8,
   "id": "30ef4244-db85-481e-8318-f05551e458d8",
   "metadata": {},
   "outputs": [
    {
     "data": {
      "text/plain": [
       "'ferrari'"
      ]
     },
     "execution_count": 8,
     "metadata": {},
     "output_type": "execute_result"
    }
   ],
   "source": [
    "listas[1][1]"
   ]
  },
  {
   "cell_type": "code",
   "execution_count": 9,
   "id": "550d56be-6d77-4c3c-9efb-1f57a14837c8",
   "metadata": {},
   "outputs": [
    {
     "data": {
      "text/plain": [
       "[['cat', 'dot', 'snake'],\n",
       " ['porsche', 'ferrari', 'audi'],\n",
       " [213, 300, 400],\n",
       " ['cat', 'dot', 'snake'],\n",
       " ['porsche', 'ferrari', 'audi'],\n",
       " [213, 300, 400],\n",
       " ['cat', 'dot', 'snake'],\n",
       " ['porsche', 'ferrari', 'audi'],\n",
       " [213, 300, 400]]"
      ]
     },
     "execution_count": 9,
     "metadata": {},
     "output_type": "execute_result"
    }
   ],
   "source": [
    "lista3x = listas * 3\n",
    "lista3x"
   ]
  },
  {
   "cell_type": "code",
   "execution_count": null,
   "id": "a2c3bfa0-443f-45e4-8a87-a2c024ff7008",
   "metadata": {},
   "outputs": [],
   "source": []
  }
 ],
 "metadata": {
  "kernelspec": {
   "display_name": "Python 3 (ipykernel)",
   "language": "python",
   "name": "python3"
  },
  "language_info": {
   "codemirror_mode": {
    "name": "ipython",
    "version": 3
   },
   "file_extension": ".py",
   "mimetype": "text/x-python",
   "name": "python",
   "nbconvert_exporter": "python",
   "pygments_lexer": "ipython3",
   "version": "3.11.7"
  }
 },
 "nbformat": 4,
 "nbformat_minor": 5
}
