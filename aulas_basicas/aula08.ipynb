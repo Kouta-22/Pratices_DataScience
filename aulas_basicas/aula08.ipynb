{
 "cells": [
  {
   "cell_type": "code",
   "execution_count": 2,
   "id": "01e80a43-76bf-4142-8bca-1569493d66d2",
   "metadata": {},
   "outputs": [
    {
     "data": {
      "text/plain": [
       "dict"
      ]
     },
     "execution_count": 2,
     "metadata": {},
     "output_type": "execute_result"
    }
   ],
   "source": [
    "dic = {}\n",
    "type(dic)"
   ]
  },
  {
   "cell_type": "code",
   "execution_count": 4,
   "id": "aeaf111e-5c09-4b08-9ac3-ffd4c675a5b9",
   "metadata": {},
   "outputs": [
    {
     "data": {
      "text/plain": [
       "{'guilherme': 24,\n",
       " 'marcela': 30,\n",
       " 'maria': 55,\n",
       " 'jose': 90,\n",
       " 'pesos': {'guilherme': 53, 'marcela': 40, 'marias': 60},\n",
       " 'valores': [1, 2, 3, 5, 999],\n",
       " 'strings': ['aaaaaaaaaaaaaaaaa', 'bbbbbbbbbbbb', 'cccccccccc']}"
      ]
     },
     "execution_count": 4,
     "metadata": {},
     "output_type": "execute_result"
    }
   ],
   "source": [
    "#dicionarios trabalham com o conceito de \"chave:valor\"\n",
    "#dicionarios podem conter chaves e listas\n",
    "pessoas = {'guilherme':24, 'marcela':30, 'maria':55, 'jose':90,\n",
    "            'pesos':{'guilherme':53, 'marcela':40,'marias':60},\n",
    "            'valores':[1,2,3,5,999],'strings':['aaaaaaaaaaaaaaaaa','bbbbbbbbbbbb','cccccccccc']\n",
    "            }\n",
    "pessoas"
   ]
  },
  {
   "cell_type": "code",
   "execution_count": 12,
   "id": "0bebc3c0-49a0-4c64-8392-498d92f17af6",
   "metadata": {},
   "outputs": [
    {
     "data": {
      "text/plain": [
       "55"
      ]
     },
     "execution_count": 12,
     "metadata": {},
     "output_type": "execute_result"
    }
   ],
   "source": [
    "pessoas['guilherme']"
   ]
  },
  {
   "cell_type": "code",
   "execution_count": 17,
   "id": "49f74a63-895f-4fd8-8ba8-b55ad0a3f759",
   "metadata": {},
   "outputs": [
    {
     "data": {
      "text/plain": [
       "24"
      ]
     },
     "execution_count": 17,
     "metadata": {},
     "output_type": "execute_result"
    }
   ],
   "source": [
    "pessoas['pesos']['guilherme']"
   ]
  },
  {
   "cell_type": "code",
   "execution_count": 10,
   "id": "c7f28944-58dd-4859-9040-e4de0a533162",
   "metadata": {},
   "outputs": [
    {
     "data": {
      "text/plain": [
       "'bbbbbbbbbbbb'"
      ]
     },
     "execution_count": 10,
     "metadata": {},
     "output_type": "execute_result"
    }
   ],
   "source": [
    "pessoas['strings'][1]"
   ]
  },
  {
   "cell_type": "code",
   "execution_count": 13,
   "id": "53f7b778-9947-4c7d-a00a-f88e6a9224e8",
   "metadata": {},
   "outputs": [],
   "source": [
    "pessoas['guilherme'] = 55"
   ]
  },
  {
   "cell_type": "code",
   "execution_count": 16,
   "id": "25a41160-cf90-4c4e-b553-2139d595e6d8",
   "metadata": {},
   "outputs": [],
   "source": [
    "pessoas['pesos']['guilherme'] = 24"
   ]
  },
  {
   "cell_type": "code",
   "execution_count": 18,
   "id": "be2ced88-f15a-490a-ab24-2022cb304722",
   "metadata": {},
   "outputs": [],
   "source": [
    "pessoas2 = {'clitom':23,'wagner':34}"
   ]
  },
  {
   "cell_type": "code",
   "execution_count": 19,
   "id": "8f13157d-8582-4950-a00f-07d77997cbb4",
   "metadata": {},
   "outputs": [],
   "source": [
    "pessoas.update(pessoas2)"
   ]
  },
  {
   "cell_type": "code",
   "execution_count": 20,
   "id": "cd5da577-e728-4483-b77e-d1dc350078bc",
   "metadata": {},
   "outputs": [
    {
     "data": {
      "text/plain": [
       "{'guilherme': 55,\n",
       " 'marcela': 30,\n",
       " 'maria': 55,\n",
       " 'jose': 90,\n",
       " 'pesos': {'guilherme': 24, 'marcela': 40, 'marias': 60},\n",
       " 'valores': [1, 2, 3, 5, 999],\n",
       " 'strings': ['aaaaaaaaaaaaaaaaa', 'bbbbbbbbbbbb', 'cccccccccc'],\n",
       " 'clitom': 23,\n",
       " 'wagner': 34}"
      ]
     },
     "execution_count": 20,
     "metadata": {},
     "output_type": "execute_result"
    }
   ],
   "source": [
    "pessoas"
   ]
  },
  {
   "cell_type": "code",
   "execution_count": 21,
   "id": "b12ebb72-3608-489c-b291-dbb36a83e5de",
   "metadata": {},
   "outputs": [
    {
     "data": {
      "text/plain": [
       "'Nao_existe'"
      ]
     },
     "execution_count": 21,
     "metadata": {},
     "output_type": "execute_result"
    }
   ],
   "source": [
    "#retorna o valor da chave caso ela exista senão retonar o valor do parametro\n",
    "pessoas.get('aline','Nao_existe')"
   ]
  },
  {
   "cell_type": "code",
   "execution_count": 23,
   "id": "a055faf9-97e7-4345-8820-aa7a411a4367",
   "metadata": {},
   "outputs": [
    {
     "data": {
      "text/plain": [
       "55"
      ]
     },
     "execution_count": 23,
     "metadata": {},
     "output_type": "execute_result"
    }
   ],
   "source": [
    "pessoas.get('guilherme')"
   ]
  },
  {
   "cell_type": "code",
   "execution_count": 24,
   "id": "8e376e5b-4688-4b29-bde4-2bad612b0f76",
   "metadata": {},
   "outputs": [
    {
     "data": {
      "text/plain": [
       "30"
      ]
     },
     "execution_count": 24,
     "metadata": {},
     "output_type": "execute_result"
    }
   ],
   "source": [
    "pessoas.get('marcos',30)"
   ]
  },
  {
   "cell_type": "code",
   "execution_count": 25,
   "id": "c9f73aaf-edaf-4104-bd83-5d6b6f8b6384",
   "metadata": {},
   "outputs": [
    {
     "data": {
      "text/plain": [
       "{'guilherme': 55,\n",
       " 'marcela': 30,\n",
       " 'maria': 55,\n",
       " 'jose': 90,\n",
       " 'pesos': {'guilherme': 24, 'marcela': 40, 'marias': 60},\n",
       " 'valores': [1, 2, 3, 5, 999],\n",
       " 'strings': ['aaaaaaaaaaaaaaaaa', 'bbbbbbbbbbbb', 'cccccccccc'],\n",
       " 'clitom': 23,\n",
       " 'wagner': 34}"
      ]
     },
     "execution_count": 25,
     "metadata": {},
     "output_type": "execute_result"
    }
   ],
   "source": [
    "pessoas"
   ]
  },
  {
   "cell_type": "code",
   "execution_count": 26,
   "id": "8aedd43a-5c42-4bd8-bbb9-f7623cae6d3c",
   "metadata": {},
   "outputs": [
    {
     "data": {
      "text/plain": [
       "{'guilherme': 55,\n",
       " 'marcela': 30,\n",
       " 'maria': 55,\n",
       " 'jose': 90,\n",
       " 'pesos': {'guilherme': 24, 'marcela': 40, 'marias': 60},\n",
       " 'valores': [1, 2, 3, 5, 999],\n",
       " 'strings': ['aaaaaaaaaaaaaaaaa', 'bbbbbbbbbbbb', 'cccccccccc'],\n",
       " 'clitom': 23,\n",
       " 'wagner': 34,\n",
       " 'marcos': 30}"
      ]
     },
     "execution_count": 26,
     "metadata": {},
     "output_type": "execute_result"
    }
   ],
   "source": [
    "pessoas.setdefault('marcos',30)\n",
    "pessoas"
   ]
  },
  {
   "cell_type": "code",
   "execution_count": 27,
   "id": "77704cba-3592-41af-94e0-f800be616d63",
   "metadata": {},
   "outputs": [],
   "source": [
    "pessoas.clear()"
   ]
  },
  {
   "cell_type": "code",
   "execution_count": 28,
   "id": "b55fca0e-0ded-4851-9db1-9d4b858833f3",
   "metadata": {},
   "outputs": [
    {
     "data": {
      "text/plain": [
       "{}"
      ]
     },
     "execution_count": 28,
     "metadata": {},
     "output_type": "execute_result"
    }
   ],
   "source": [
    "pessoas"
   ]
  },
  {
   "cell_type": "code",
   "execution_count": null,
   "id": "1aea5437-8308-4212-b75a-8b53cd3c1a1d",
   "metadata": {},
   "outputs": [],
   "source": []
  }
 ],
 "metadata": {
  "kernelspec": {
   "display_name": "Python 3 (ipykernel)",
   "language": "python",
   "name": "python3"
  },
  "language_info": {
   "codemirror_mode": {
    "name": "ipython",
    "version": 3
   },
   "file_extension": ".py",
   "mimetype": "text/x-python",
   "name": "python",
   "nbconvert_exporter": "python",
   "pygments_lexer": "ipython3",
   "version": "3.11.7"
  }
 },
 "nbformat": 4,
 "nbformat_minor": 5
}
