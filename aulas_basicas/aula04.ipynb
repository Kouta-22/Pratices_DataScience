{
 "cells": [
  {
   "cell_type": "markdown",
   "id": "bda6159e-501a-4037-850c-930adce14420",
   "metadata": {},
   "source": [
    "LISTAS"
   ]
  },
  {
   "cell_type": "code",
   "execution_count": 3,
   "id": "0182a41d-e848-4dbf-a265-5fbc3a56c20d",
   "metadata": {},
   "outputs": [
    {
     "data": {
      "text/plain": [
       "[1, 2, 3]"
      ]
     },
     "execution_count": 3,
     "metadata": {},
     "output_type": "execute_result"
    }
   ],
   "source": [
    "bixos = [1,2,3]\n",
    "bixos"
   ]
  },
  {
   "cell_type": "code",
   "execution_count": 6,
   "id": "eae699c8-2cc6-420f-a335-cc84ca07f354",
   "metadata": {},
   "outputs": [
    {
     "data": {
      "text/plain": [
       "'gato'"
      ]
     },
     "execution_count": 6,
     "metadata": {},
     "output_type": "execute_result"
    }
   ],
   "source": [
    "bixos = ['cao','gato',1234,13.2,[0,2,0]]\n",
    "bixos[1]"
   ]
  },
  {
   "cell_type": "code",
   "execution_count": 7,
   "id": "ec29b63e-c1f4-4886-92b5-716bb6fe8649",
   "metadata": {},
   "outputs": [],
   "source": [
    "#SLICING EM LISTA"
   ]
  },
  {
   "cell_type": "code",
   "execution_count": 8,
   "id": "1ef480ac-e003-4507-baa2-557a813c06d6",
   "metadata": {},
   "outputs": [
    {
     "data": {
      "text/plain": [
       "[1234, 13.2, [0, 2, 0]]"
      ]
     },
     "execution_count": 8,
     "metadata": {},
     "output_type": "execute_result"
    }
   ],
   "source": [
    "bixos[2:]"
   ]
  },
  {
   "cell_type": "code",
   "execution_count": 9,
   "id": "8167cb0c-c3c3-44d1-b367-6e55d9a3839a",
   "metadata": {},
   "outputs": [],
   "source": [
    "#REMOVENDO ELEMENTO"
   ]
  },
  {
   "cell_type": "code",
   "execution_count": 11,
   "id": "459904e5-dc7a-4e5c-98eb-0e0a17c04a3c",
   "metadata": {},
   "outputs": [
    {
     "data": {
      "text/plain": [
       "['cao', 1234, 13.2, [0, 2, 0]]"
      ]
     },
     "execution_count": 11,
     "metadata": {},
     "output_type": "execute_result"
    }
   ],
   "source": [
    "bixos.remove('gato')\n",
    "bixos"
   ]
  },
  {
   "cell_type": "markdown",
   "id": "28d87abe-5218-47cc-9342-571e10f8e2be",
   "metadata": {},
   "source": [
    "Operação em Listas"
   ]
  },
  {
   "cell_type": "code",
   "execution_count": 12,
   "id": "7e66f67b-d5af-4eb2-be07-ffcd27f31637",
   "metadata": {},
   "outputs": [
    {
     "data": {
      "text/plain": [
       "4"
      ]
     },
     "execution_count": 12,
     "metadata": {},
     "output_type": "execute_result"
    }
   ],
   "source": [
    "len(bixos)"
   ]
  },
  {
   "cell_type": "code",
   "execution_count": 13,
   "id": "50ece236-46df-41fe-a997-bfac1f043373",
   "metadata": {},
   "outputs": [],
   "source": [
    "#concatenando listas"
   ]
  },
  {
   "cell_type": "code",
   "execution_count": 21,
   "id": "9a74acaf-ed41-495d-874d-e9660b171813",
   "metadata": {},
   "outputs": [
    {
     "data": {
      "text/plain": [
       "['cao', 1234, 13.2, [0, 2, 0], 'verde', 23, 'azul', 'doze']"
      ]
     },
     "execution_count": 21,
     "metadata": {},
     "output_type": "execute_result"
    }
   ],
   "source": [
    "bixos + [23,'azul','doze']"
   ]
  },
  {
   "cell_type": "code",
   "execution_count": 15,
   "id": "9cf8eda1-2c23-4c72-93a5-61ef6afe27b4",
   "metadata": {},
   "outputs": [
    {
     "data": {
      "text/plain": [
       "True"
      ]
     },
     "execution_count": 15,
     "metadata": {},
     "output_type": "execute_result"
    }
   ],
   "source": [
    "'cao' in bixos"
   ]
  },
  {
   "cell_type": "code",
   "execution_count": 16,
   "id": "e4360b23-44ac-4680-8c09-3f02dd332d7e",
   "metadata": {},
   "outputs": [],
   "source": [
    "bixos.append('verde')"
   ]
  },
  {
   "cell_type": "code",
   "execution_count": 22,
   "id": "05e1c7dc-9ef2-4c5c-8249-194ec3eb799a",
   "metadata": {},
   "outputs": [
    {
     "ename": "ValueError",
     "evalue": "'azul' is not in list",
     "output_type": "error",
     "traceback": [
      "\u001b[1;31m---------------------------------------------------------------------------\u001b[0m",
      "\u001b[1;31mValueError\u001b[0m                                Traceback (most recent call last)",
      "Cell \u001b[1;32mIn[22], line 1\u001b[0m\n\u001b[1;32m----> 1\u001b[0m bixos\u001b[38;5;241m.\u001b[39mindex(\u001b[38;5;124m'\u001b[39m\u001b[38;5;124mazul\u001b[39m\u001b[38;5;124m'\u001b[39m)\n",
      "\u001b[1;31mValueError\u001b[0m: 'azul' is not in list"
     ]
    }
   ],
   "source": [
    "bixos.index('azul')"
   ]
  },
  {
   "cell_type": "code",
   "execution_count": null,
   "id": "7d2b0db6-4b31-498a-9918-d51c3c62a667",
   "metadata": {},
   "outputs": [],
   "source": []
  },
  {
   "cell_type": "code",
   "execution_count": null,
   "id": "3f2ef4b6-1f1d-4a4f-9a2a-fef43d48728d",
   "metadata": {},
   "outputs": [],
   "source": []
  },
  {
   "cell_type": "code",
   "execution_count": null,
   "id": "4ca3c1df-ee21-49af-bc3f-65fe6b80b3d1",
   "metadata": {},
   "outputs": [],
   "source": []
  },
  {
   "cell_type": "code",
   "execution_count": null,
   "id": "380757bb-9057-4fb9-8da0-2e9d839a8dbe",
   "metadata": {},
   "outputs": [],
   "source": []
  }
 ],
 "metadata": {
  "kernelspec": {
   "display_name": "Python 3 (ipykernel)",
   "language": "python",
   "name": "python3"
  },
  "language_info": {
   "codemirror_mode": {
    "name": "ipython",
    "version": 3
   },
   "file_extension": ".py",
   "mimetype": "text/x-python",
   "name": "python",
   "nbconvert_exporter": "python",
   "pygments_lexer": "ipython3",
   "version": "3.11.7"
  }
 },
 "nbformat": 4,
 "nbformat_minor": 5
}
