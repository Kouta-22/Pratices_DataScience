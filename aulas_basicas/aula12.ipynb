{
 "cells": [
  {
   "cell_type": "code",
   "execution_count": 5,
   "id": "29ec9fc8-99f0-45ca-b63c-74ad52927583",
   "metadata": {},
   "outputs": [
    {
     "name": "stdout",
     "output_type": "stream",
     "text": [
      "10 Ola mundo\n",
      "15 python\n",
      "20 data science\n"
     ]
    }
   ],
   "source": [
    "indice = [10,15,20]\n",
    "linhas = ['Ola mundo', 'python', 'data science']\n",
    "for i, l in zip(indice,linhas):\n",
    "    print(i,l)"
   ]
  },
  {
   "cell_type": "code",
   "execution_count": 9,
   "id": "17ed534e-17a6-4c4a-b8b0-3171c39c6c0d",
   "metadata": {},
   "outputs": [
    {
     "name": "stdout",
     "output_type": "stream",
     "text": [
      "UM\n",
      "one\n",
      "two\n",
      "tree\n",
      "DOIS\n",
      "one\n",
      "two\n",
      "tree\n",
      "TRES\n",
      "one\n",
      "two\n",
      "tree\n"
     ]
    }
   ],
   "source": [
    "for i in ['um','dois','tres']:\n",
    "    print(i.upper())\n",
    "    for y in ['one','two','tree']:\n",
    "        print(y)"
   ]
  },
  {
   "cell_type": "code",
   "execution_count": null,
   "id": "bc6c00fc-fca9-47c3-8349-213667a11e24",
   "metadata": {},
   "outputs": [],
   "source": []
  }
 ],
 "metadata": {
  "kernelspec": {
   "display_name": "Python 3 (ipykernel)",
   "language": "python",
   "name": "python3"
  },
  "language_info": {
   "codemirror_mode": {
    "name": "ipython",
    "version": 3
   },
   "file_extension": ".py",
   "mimetype": "text/x-python",
   "name": "python",
   "nbconvert_exporter": "python",
   "pygments_lexer": "ipython3",
   "version": "3.11.7"
  }
 },
 "nbformat": 4,
 "nbformat_minor": 5
}
