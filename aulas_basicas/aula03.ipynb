{
 "cells": [
  {
   "cell_type": "code",
   "execution_count": 7,
   "id": "843c7caa-4096-4837-84a6-66a01ca972f8",
   "metadata": {},
   "outputs": [],
   "source": [
    "frase1 = \"treinando python \""
   ]
  },
  {
   "cell_type": "code",
   "execution_count": 9,
   "id": "5e7ef8fd-4105-4f6c-84bb-a587b16202ae",
   "metadata": {},
   "outputs": [],
   "source": [
    "frase2 = \" estendendo string\""
   ]
  },
  {
   "cell_type": "code",
   "execution_count": 5,
   "id": "24d4c5db-db63-40ab-908b-82cf242e1bde",
   "metadata": {},
   "outputs": [],
   "source": [
    "frase3 = frase1 + frase2"
   ]
  },
  {
   "cell_type": "code",
   "execution_count": 10,
   "id": "f95ebaa0-218f-487e-bbb4-8182b425ef8d",
   "metadata": {},
   "outputs": [
    {
     "data": {
      "text/plain": [
       "'treinando pythonestendendo string'"
      ]
     },
     "execution_count": 10,
     "metadata": {},
     "output_type": "execute_result"
    }
   ],
   "source": [
    "frase3"
   ]
  },
  {
   "cell_type": "code",
   "execution_count": 23,
   "id": "57f2cdd1-6461-414d-85ec-a3c0e9ed876c",
   "metadata": {},
   "outputs": [],
   "source": [
    "frase = \"aa AA\""
   ]
  },
  {
   "cell_type": "code",
   "execution_count": 25,
   "id": "415cf8a8-b212-4443-8de4-6da5cc70e45a",
   "metadata": {},
   "outputs": [
    {
     "data": {
      "text/plain": [
       "2"
      ]
     },
     "execution_count": 25,
     "metadata": {},
     "output_type": "execute_result"
    }
   ],
   "source": [
    "frase.count('a')"
   ]
  },
  {
   "cell_type": "code",
   "execution_count": 24,
   "id": "6925c491-6bac-41ee-af39-45f3fad9a077",
   "metadata": {},
   "outputs": [
    {
     "data": {
      "text/plain": [
       "'aa aa'"
      ]
     },
     "execution_count": 24,
     "metadata": {},
     "output_type": "execute_result"
    }
   ],
   "source": [
    "frase.lower()"
   ]
  },
  {
   "cell_type": "code",
   "execution_count": 26,
   "id": "51ce7e38-758a-493a-94db-a367bff58f1d",
   "metadata": {},
   "outputs": [
    {
     "data": {
      "text/plain": [
       "'AA AA'"
      ]
     },
     "execution_count": 26,
     "metadata": {},
     "output_type": "execute_result"
    }
   ],
   "source": [
    "frase.upper()"
   ]
  },
  {
   "cell_type": "code",
   "execution_count": 28,
   "id": "f2511af3-bdba-4b6d-a7f8-2d01e9a13f43",
   "metadata": {},
   "outputs": [
    {
     "data": {
      "text/plain": [
       "'Aa aa'"
      ]
     },
     "execution_count": 28,
     "metadata": {},
     "output_type": "execute_result"
    }
   ],
   "source": [
    "frase.capitalize()"
   ]
  },
  {
   "cell_type": "code",
   "execution_count": 29,
   "id": "df640165-ea1d-44d5-8bfb-01e1ecde1335",
   "metadata": {},
   "outputs": [
    {
     "data": {
      "text/plain": [
       "['aa', 'AA']"
      ]
     },
     "execution_count": 29,
     "metadata": {},
     "output_type": "execute_result"
    }
   ],
   "source": [
    "frase.split()"
   ]
  }
 ],
 "metadata": {
  "kernelspec": {
   "display_name": "Python 3 (ipykernel)",
   "language": "python",
   "name": "python3"
  },
  "language_info": {
   "codemirror_mode": {
    "name": "ipython",
    "version": 3
   },
   "file_extension": ".py",
   "mimetype": "text/x-python",
   "name": "python",
   "nbconvert_exporter": "python",
   "pygments_lexer": "ipython3",
   "version": "3.11.7"
  }
 },
 "nbformat": 4,
 "nbformat_minor": 5
}
