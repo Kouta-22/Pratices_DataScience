{
 "cells": [
  {
   "cell_type": "markdown",
   "metadata": {},
   "source": [
    "# Dash Components\n",
    "\n",
    "# HTLP components\n",
    "\n",
    "- O hyml components faz com que a gente consiga montar o layout do dashboard utilizando components html porem utilizando python\n",
    "\n",
    "- __html.Div__\n",
    "    - O __html.Div__ é utilizado como um container que envolve os demais componentes do layout. O html.Div sozinho não representa muita coisa, porém quando possui componente envolvido, facilita no controle e na implementação de estilos."
   ]
  },
  {
   "cell_type": "code",
   "execution_count": 2,
   "metadata": {},
   "outputs": [],
   "source": [
    "import dash\n",
    "from dash import dcc\n",
    "from dash import html\n"
   ]
  },
  {
   "cell_type": "code",
   "execution_count": 3,
   "metadata": {},
   "outputs": [
    {
     "data": {
      "text/plain": [
       "Div(children=[], id='', className='', n_clicks=0, style={})"
      ]
     },
     "execution_count": 3,
     "metadata": {},
     "output_type": "execute_result"
    }
   ],
   "source": [
    "html.Div(\n",
    "    children = [],\n",
    "    id = '',\n",
    "    className = '',\n",
    "    style={},\n",
    "    n_clicks=0,\n",
    ")"
   ]
  },
  {
   "cell_type": "markdown",
   "metadata": {},
   "source": [
    "- html.H1\n",
    "- html.H2\n",
    "- html.H3\n",
    "- html.H4\n",
    "- html.H5\n",
    "- html.H6\n",
    "    * A presenta 6 tamanhos ou niveis de titulo ou cabeçalho onde o menor é o nivel 6"
   ]
  },
  {
   "cell_type": "code",
   "execution_count": 4,
   "metadata": {},
   "outputs": [
    {
     "data": {
      "text/html": [
       "\n",
       "        <iframe\n",
       "            width=\"100%\"\n",
       "            height=\"650\"\n",
       "            src=\"http://127.0.0.1:8080/\"\n",
       "            frameborder=\"0\"\n",
       "            allowfullscreen\n",
       "            \n",
       "        ></iframe>\n",
       "        "
      ],
      "text/plain": [
       "<IPython.lib.display.IFrame at 0x2b89cad9550>"
      ]
     },
     "metadata": {},
     "output_type": "display_data"
    }
   ],
   "source": [
    "app = dash.Dash()\n",
    "\n",
    "app.layout = html.Div([\n",
    "    # Titulo do layout\n",
    "    html.H1('html.H1', style={'color': 'Blue'}),\n",
    "    html.H2('html.H2', style={'color': 'green'}),\n",
    "    html.H3('html.H3', style={'color': 'orange'}),\n",
    "    html.H4('html.H4', style={'color': 'yellow'}),\n",
    "    html.H5('html.H5', style={'color': 'red'}),\n",
    "    html.H6('html.H6', style={'color': 'black'}),\n",
    "    \n",
    "])\n",
    "\n",
    "if __name__ == '__main__':\n",
    "    app.run_server(debug=True,port=8080,use_reloader=False)"
   ]
  },
  {
   "cell_type": "markdown",
   "metadata": {},
   "source": [
    "- html.p\n",
    "    - Cria paragrafo para o texto"
   ]
  },
  {
   "cell_type": "code",
   "execution_count": 5,
   "metadata": {},
   "outputs": [
    {
     "data": {
      "text/plain": [
       "P(children=[], id='', className='', style={})"
      ]
     },
     "execution_count": 5,
     "metadata": {},
     "output_type": "execute_result"
    }
   ],
   "source": [
    "html.P(\n",
    "    children=[],\n",
    "    id='',\n",
    "    className='',\n",
    "    style={}\n",
    ")"
   ]
  },
  {
   "cell_type": "markdown",
   "metadata": {},
   "source": [
    "- html.Button\n",
    "    - Cria componente Botão"
   ]
  },
  {
   "cell_type": "code",
   "execution_count": 6,
   "metadata": {},
   "outputs": [
    {
     "data": {
      "text/plain": [
       "Button(children=[], id='', className='', n_clicks=0)"
      ]
     },
     "execution_count": 6,
     "metadata": {},
     "output_type": "execute_result"
    }
   ],
   "source": [
    "html.Button(\n",
    "    children=[],\n",
    "    id='',\n",
    "    className='',\n",
    "    n_clicks=0\n",
    ")"
   ]
  },
  {
   "cell_type": "markdown",
   "metadata": {},
   "source": [
    "- html.Hr\n",
    "    - Cria linha horizontal"
   ]
  },
  {
   "cell_type": "code",
   "execution_count": 7,
   "metadata": {},
   "outputs": [
    {
     "data": {
      "text/plain": [
       "Hr(children='', id='', className='')"
      ]
     },
     "execution_count": 7,
     "metadata": {},
     "output_type": "execute_result"
    }
   ],
   "source": [
    "html.Hr(\n",
    "    children='',\n",
    "    id='',\n",
    "    className=''\n",
    ")"
   ]
  },
  {
   "cell_type": "markdown",
   "metadata": {},
   "source": [
    "- html.Br\n",
    "    - Reproduz uma quebra de linha no texto\n",
    "    \n",
    "html.Br(childer=[],id='',className='')"
   ]
  },
  {
   "cell_type": "markdown",
   "metadata": {},
   "source": [
    "- html.Tr\n",
    "    - Cria tabela"
   ]
  },
  {
   "cell_type": "code",
   "execution_count": 8,
   "metadata": {},
   "outputs": [
    {
     "data": {
      "text/plain": [
       "Table([Tr([Th('Coluna1'), Th('Coluna 2'), Th('Coluna 3'), Th('Coluna 4')]), Tr([Td('Elemento 11'), Td('Elemento 12'), Td('Elemento 13'), Td('Elemento 14')]), Tr([Td('Coluna 21'), Td('Coluna 22'), Td('Coluna 23'), Td('Coluna 24')])])"
      ]
     },
     "execution_count": 8,
     "metadata": {},
     "output_type": "execute_result"
    }
   ],
   "source": [
    "html.Table(\n",
    "    [\n",
    "        html.Tr(\n",
    "            [\n",
    "                html.Th('Coluna1'),\n",
    "                html.Th('Coluna 2'),\n",
    "                html.Th('Coluna 3'),\n",
    "                html.Th('Coluna 4'),\n",
    "            ]\n",
    "        ),\n",
    "        html.Tr(\n",
    "            [\n",
    "                html.Td('Elemento 11'),\n",
    "                html.Td('Elemento 12'),\n",
    "                html.Td('Elemento 13'),\n",
    "                html.Td('Elemento 14'),\n",
    "            ]\n",
    "        ),\n",
    "        html.Tr(\n",
    "            [\n",
    "                html.Td('Coluna 21'),\n",
    "                html.Td('Coluna 22'),\n",
    "                html.Td('Coluna 23'),\n",
    "                html.Td('Coluna 24'),\n",
    "            ]\n",
    "        )\n",
    "]\n",
    ")"
   ]
  },
  {
   "cell_type": "code",
   "execution_count": 9,
   "metadata": {},
   "outputs": [
    {
     "data": {
      "text/html": [
       "\n",
       "        <iframe\n",
       "            width=\"100%\"\n",
       "            height=\"650\"\n",
       "            src=\"http://127.0.0.1:8080/\"\n",
       "            frameborder=\"0\"\n",
       "            allowfullscreen\n",
       "            \n",
       "        ></iframe>\n",
       "        "
      ],
      "text/plain": [
       "<IPython.lib.display.IFrame at 0x2b89c98c6d0>"
      ]
     },
     "metadata": {},
     "output_type": "display_data"
    }
   ],
   "source": [
    "import dash\n",
    "from dash import dcc\n",
    "from dash import html\n",
    "\n",
    "app = dash.Dash()\n",
    "app.layout= html.Div([\n",
    "    html.H1('html.H1', style={'color':'red'}),\n",
    "\n",
    "    html.P(children=['Paragrafo']),\n",
    "\n",
    "    html.Button(children=['Esse é o botão'],n_clicks=0),\n",
    "\n",
    "    html.Hr(children=[], id='', className=''),\n",
    "\n",
    "    html.Br(children=[]),\n",
    "\n",
    "    html.Table(\n",
    "    [\n",
    "        html.Tr(\n",
    "            [\n",
    "                html.Th('Coluna1'),\n",
    "                html.Th('Coluna 2'),\n",
    "                html.Th('Coluna 3'),\n",
    "                html.Th('Coluna 4'),\n",
    "            ]\n",
    "        ),\n",
    "        html.Tr(\n",
    "            [\n",
    "                html.Td('Elemento 11'),\n",
    "                html.Td('Elemento 12'),\n",
    "                html.Td('Elemento 13'),\n",
    "                html.Td('Elemento 14'),\n",
    "            ]\n",
    "        ),\n",
    "        html.Tr(\n",
    "            [\n",
    "                html.Td('Elemento 21'),\n",
    "                html.Td('Elemento 22'),\n",
    "                html.Td('Elemento 23'),\n",
    "                html.Td('Elemento 24'),\n",
    "            ]\n",
    "        )\n",
    "]\n",
    ")\n",
    "\n",
    "])\n",
    "\n",
    "if __name__ == '__main__':\n",
    "    app.run_server(debug=True,port=8080,use_reloader=False)\n",
    "\n",
    "\n",
    "\n",
    "\n"
   ]
  },
  {
   "cell_type": "markdown",
   "metadata": {},
   "source": [
    "# Dash Components\n",
    "- Dash Core Components\n",
    "***\n",
    "- São componentes para interatividade com usuario\n",
    "# Dropdown\n",
    "***\n",
    "\n",
    "\n"
   ]
  },
  {
   "cell_type": "code",
   "execution_count": 10,
   "metadata": {},
   "outputs": [
    {
     "data": {
      "text/plain": [
       "Dropdown(options=[{'label': 'New York City', 'value': 'NYC'}, {'label': 'Montreal', 'value': 'MTL'}, {'label': 'San Francisco', 'value': 'SF'}], value='MTL', multi=True)"
      ]
     },
     "execution_count": 10,
     "metadata": {},
     "output_type": "execute_result"
    }
   ],
   "source": [
    "dcc.Dropdown(\n",
    "    options=[\n",
    "        {'label': 'New York City', 'value':'NYC'},\n",
    "        {'label':'Montreal','value':'MTL'},\n",
    "        {'label':'San Francisco', 'value': 'SF'}\n",
    "    ],\n",
    "    multi=True,\n",
    "    value=\"MTL\"\n",
    ")"
   ]
  },
  {
   "cell_type": "markdown",
   "metadata": {},
   "source": [
    "# Slider"
   ]
  },
  {
   "cell_type": "code",
   "execution_count": 11,
   "metadata": {},
   "outputs": [
    {
     "data": {
      "text/plain": [
       "Slider(min=0, max=9, marks={0: 'Label 0', 1: 'Label 1', 2: 'Label 2', 3: 'Label 3', 4: 'Label 4', 5: 'Label 5', 6: 'Label 6', 7: 'Label 7', 8: 'Label 8', 9: 'Label 9'}, value=5)"
      ]
     },
     "execution_count": 11,
     "metadata": {},
     "output_type": "execute_result"
    }
   ],
   "source": [
    "dcc.Slider(\n",
    "    min=0,\n",
    "    max=9,\n",
    "    marks={i:f\"Label {i}\" for i in range(10)},\n",
    "    value=5,\n",
    ")"
   ]
  },
  {
   "cell_type": "code",
   "execution_count": 12,
   "metadata": {},
   "outputs": [
    {
     "data": {
      "text/plain": [
       "Slider(min=-5, max=9, step=0.5, value=-3)"
      ]
     },
     "execution_count": 12,
     "metadata": {},
     "output_type": "execute_result"
    }
   ],
   "source": [
    "dcc.Slider(\n",
    "    min=-5,\n",
    "    max=9,\n",
    "    step=0.5,\n",
    "    value=-3\n",
    ")"
   ]
  },
  {
   "cell_type": "markdown",
   "metadata": {},
   "source": [
    "# RangerSlider"
   ]
  },
  {
   "cell_type": "code",
   "execution_count": 13,
   "metadata": {},
   "outputs": [
    {
     "data": {
      "text/plain": [
       "RangeSlider(min=-5, max=6, marks={-5: 'Label -5', -4: 'Label -4', -3: 'Label -3', -2: 'Label -2', -1: 'Label -1', 0: 'Label 0', 1: 'Label 1', 2: 'Label 2', 3: 'Label 3', 4: 'Label 4', 5: 'Label 5', 6: 'Label 6'}, value=[-3, 4])"
      ]
     },
     "execution_count": 13,
     "metadata": {},
     "output_type": "execute_result"
    }
   ],
   "source": [
    "dcc.RangeSlider(\n",
    "    marks={i:f\"Label {i}\" for i in range(-5,7)},\n",
    "    min=-5,\n",
    "    max=6,\n",
    "    value=[-3,4]\n",
    ")"
   ]
  },
  {
   "cell_type": "code",
   "execution_count": 14,
   "metadata": {},
   "outputs": [],
   "source": [
    "\n",
    "app = dash.Dash()\n",
    "\n",
    "app.layout = html.Div([\n",
    "    html.H1('Dropdown'),\n",
    "    dcc.Dropdown(\n",
    "        options=[\n",
    "            {'label':'New Yorck City', 'value':'NYC'},\n",
    "            {'label':'Montreal','value':'MTL'},\n",
    "            {'label':'San Francisco','value':'SF'},\n",
    "        ],\n",
    "        value='MTL'),\n",
    "    html.Br(),\n",
    "    dcc.Dropdown(\n",
    "        options=[\n",
    "            {'label':'New Yorck City', 'value':'NYC'},\n",
    "            {'label':'Montreal', 'value':'MTF'},\n",
    "            {'label':'San Francisco','value':'SF]'}\n",
    "        ],\n",
    "        multi=True,\n",
    "        value=\"MTL\"\n",
    "    ),\n",
    "\n",
    "    html.Br(),\n",
    "\n",
    "    html.H1('Slider'),\n",
    "\n",
    "    dcc.Slider(\n",
    "        min=-5,\n",
    "        max=10,\n",
    "        step=0.5,\n",
    "        value=-3\n",
    "    ),\n",
    "\n",
    "    html.Br(),\n",
    "    html.Hr(),\n",
    "\n",
    "    dcc.Slider(\n",
    "        min=0,\n",
    "        max=9,\n",
    "        marks={i:f'Label {i}' for i in range(10)},\n",
    "        value=5\n",
    "    ),\n",
    "    html.Br(),\n",
    "    html.H1('Ranger Slider'),\n",
    "\n",
    "    dcc.RangeSlider(\n",
    "        count=1,\n",
    "        min=-5,\n",
    "        max=10,\n",
    "        step=0.5,\n",
    "        value=[-3,7]\n",
    "    ),\n",
    "    html.Br(),\n",
    "\n",
    "    dcc.RangeSlider(\n",
    "        marks={i:f\"Label{i}\" for i in range(-5,7)},\n",
    "        min=-5,\n",
    "        max=6,\n",
    "        value=[-3,4]\n",
    "    ),\n",
    "])\n",
    "if __name__ == '__Main__':\n",
    "    app.run_server(debug=True,port=8080,use_reloader=False)"
   ]
  },
  {
   "cell_type": "markdown",
   "metadata": {},
   "source": [
    "# Input"
   ]
  },
  {
   "cell_type": "code",
   "execution_count": 15,
   "metadata": {},
   "outputs": [
    {
     "data": {
      "text/plain": [
       "Input(value='', type='text', placeholder='Enter a value')"
      ]
     },
     "execution_count": 15,
     "metadata": {},
     "output_type": "execute_result"
    }
   ],
   "source": [
    "\n",
    "dcc.Input(\n",
    "    placeholder='Enter a value',\n",
    "    type='text',\n",
    "    value=''\n",
    ")"
   ]
  },
  {
   "cell_type": "markdown",
   "metadata": {},
   "source": [
    "# TextArea"
   ]
  },
  {
   "cell_type": "code",
   "execution_count": 16,
   "metadata": {},
   "outputs": [
    {
     "data": {
      "text/plain": [
       "Textarea(placeholder='Enter a value...', style={'width': '100%'}, value='This is a TextArea component')"
      ]
     },
     "execution_count": 16,
     "metadata": {},
     "output_type": "execute_result"
    }
   ],
   "source": [
    "dcc.Textarea(\n",
    "    placeholder='Enter a value...',\n",
    "    value='This is a TextArea component',\n",
    "    style={'width':'100%'}\n",
    ")"
   ]
  },
  {
   "cell_type": "markdown",
   "metadata": {},
   "source": [
    "# CheckBox 0u checklist"
   ]
  },
  {
   "cell_type": "code",
   "execution_count": 17,
   "metadata": {},
   "outputs": [
    {
     "data": {
      "text/plain": [
       "Checklist(options=[{'label': 'New Yorck City', 'value': 'NYC'}, {'label': 'Montreal', 'value': 'MTL'}, {'label': 'San Francisco', 'value': 'SF'}], value=['MTL', 'SF'])"
      ]
     },
     "execution_count": 17,
     "metadata": {},
     "output_type": "execute_result"
    }
   ],
   "source": [
    "dcc.Checklist(\n",
    "    options=[\n",
    "            {'label':'New Yorck City', 'value':'NYC'},\n",
    "            {'label':'Montreal','value':'MTL'},\n",
    "            {'label':'San Francisco','value':'SF'},\n",
    "        ],\n",
    "    value=['MTL','SF']\n",
    ")"
   ]
  },
  {
   "cell_type": "code",
   "execution_count": 18,
   "metadata": {},
   "outputs": [
    {
     "data": {
      "text/plain": [
       "Checklist(options=[{'label': 'New Yorck City', 'value': 'NYC'}, {'label': 'Montreal', 'value': 'MTL'}, {'label': 'San Francisco', 'value': 'SF'}], value=['MTL', 'SF'], labelStyle={'display': 'inline-block'})"
      ]
     },
     "execution_count": 18,
     "metadata": {},
     "output_type": "execute_result"
    }
   ],
   "source": [
    "dcc.Checklist(\n",
    "    options=[\n",
    "            {'label':'New Yorck City', 'value':'NYC'},\n",
    "            {'label':'Montreal','value':'MTL'},\n",
    "            {'label':'San Francisco','value':'SF'},\n",
    "        ],\n",
    "    value=['MTL','SF'],\n",
    "    labelStyle={'display':'inline-block'}#muda a disposição do layout\n",
    ")"
   ]
  },
  {
   "cell_type": "markdown",
   "metadata": {},
   "source": [
    "# Radio Items"
   ]
  },
  {
   "cell_type": "code",
   "execution_count": 20,
   "metadata": {},
   "outputs": [
    {
     "data": {
      "text/plain": [
       "RadioItems(options=[{'label': 'New Yorck City', 'value': 'NYC'}, {'label': 'Montreal', 'value': 'MTL'}, {'label': 'San Francisco', 'value': 'SF'}], value=['MTL', 'SF'])"
      ]
     },
     "execution_count": 20,
     "metadata": {},
     "output_type": "execute_result"
    }
   ],
   "source": [
    "dcc.RadioItems(\n",
    "    options=[\n",
    "            {'label':'New Yorck City', 'value':'NYC'},\n",
    "            {'label':'Montreal','value':'MTL'},\n",
    "            {'label':'San Francisco','value':'SF'},\n",
    "        ],\n",
    "    value=['MTL','SF']\n",
    ")\n"
   ]
  },
  {
   "cell_type": "code",
   "execution_count": 21,
   "metadata": {},
   "outputs": [
    {
     "data": {
      "text/plain": [
       "RadioItems(options=[{'label': 'New Yorck City', 'value': 'NYC'}, {'label': 'Montreal', 'value': 'MTL'}, {'label': 'San Francisco', 'value': 'SF'}], value=['MTL', 'SF'], labelStyle={'display': 'inline-block'})"
      ]
     },
     "execution_count": 21,
     "metadata": {},
     "output_type": "execute_result"
    }
   ],
   "source": [
    "dcc.RadioItems(\n",
    "    options=[\n",
    "            {'label':'New Yorck City', 'value':'NYC'},\n",
    "            {'label':'Montreal','value':'MTL'},\n",
    "            {'label':'San Francisco','value':'SF'},\n",
    "        ],\n",
    "    value=['MTL','SF'],\n",
    "    labelStyle={'display':'inline-block'}#muda a disposição\n",
    ")\n"
   ]
  },
  {
   "cell_type": "markdown",
   "metadata": {},
   "source": [
    "# DatePickerSingle"
   ]
  },
  {
   "cell_type": "code",
   "execution_count": 22,
   "metadata": {},
   "outputs": [
    {
     "ename": "NameError",
     "evalue": "name 'date' is not defined",
     "output_type": "error",
     "traceback": [
      "\u001b[1;31m---------------------------------------------------------------------------\u001b[0m",
      "\u001b[1;31mNameError\u001b[0m                                 Traceback (most recent call last)",
      "Cell \u001b[1;32mIn[22], line 3\u001b[0m\n\u001b[0;32m      1\u001b[0m dcc\u001b[38;5;241m.\u001b[39mDatePickerSingle(\n\u001b[0;32m      2\u001b[0m     \u001b[38;5;28mid\u001b[39m\u001b[38;5;241m=\u001b[39m\u001b[38;5;124m'\u001b[39m\u001b[38;5;124mdate-picker-single\u001b[39m\u001b[38;5;124m'\u001b[39m,\n\u001b[1;32m----> 3\u001b[0m     date\u001b[38;5;241m=\u001b[39mdate(\u001b[38;5;241m2024\u001b[39m,\u001b[38;5;241m5\u001b[39m,\u001b[38;5;241m6\u001b[39m)\n\u001b[0;32m      4\u001b[0m )\n",
      "\u001b[1;31mNameError\u001b[0m: name 'date' is not defined"
     ]
    }
   ],
   "source": [
    "dcc.DatePickerSingle(\n",
    "    id='date-picker-single',\n",
    "    date=date(2024,5,6)\n",
    ")"
   ]
  },
  {
   "cell_type": "markdown",
   "metadata": {},
   "source": [
    "# DatePickerRanger"
   ]
  },
  {
   "cell_type": "code",
   "execution_count": null,
   "metadata": {},
   "outputs": [
    {
     "ename": "NameError",
     "evalue": "name 'dcc' is not defined",
     "output_type": "error",
     "traceback": [
      "\u001b[1;31m---------------------------------------------------------------------------\u001b[0m",
      "\u001b[1;31mNameError\u001b[0m                                 Traceback (most recent call last)",
      "Cell \u001b[1;32mIn[1], line 1\u001b[0m\n\u001b[1;32m----> 1\u001b[0m dcc\u001b[38;5;241m.\u001b[39mDatePickerRanger(\n\u001b[0;32m      2\u001b[0m     \u001b[38;5;28mid\u001b[39m\u001b[38;5;241m=\u001b[39m\u001b[38;5;124m'\u001b[39m\u001b[38;5;124mdate-picker-ranger\u001b[39m\u001b[38;5;124m'\u001b[39m,\n\u001b[0;32m      3\u001b[0m     start_date\u001b[38;5;241m=\u001b[39mdate(\u001b[38;5;241m2024\u001b[39m,\u001b[38;5;241m5\u001b[39m,\u001b[38;5;241m6\u001b[39m),\n\u001b[0;32m      4\u001b[0m     end_date_placeholder_text\u001b[38;5;241m=\u001b[39m\u001b[38;5;124m'\u001b[39m\u001b[38;5;124mSelect a date!\u001b[39m\u001b[38;5;124m'\u001b[39m\n\u001b[0;32m      5\u001b[0m )\n",
      "\u001b[1;31mNameError\u001b[0m: name 'dcc' is not defined"
     ]
    }
   ],
   "source": [
    "dcc.DatePickerRanger(\n",
    "    id='date-picker-ranger',\n",
    "    start_date=date(2024,5,6),\n",
    "    end_date_placeholder_text='Select a date!'\n",
    ")"
   ]
  },
  {
   "cell_type": "code",
   "execution_count": null,
   "metadata": {},
   "outputs": [],
   "source": []
  }
 ],
 "metadata": {
  "kernelspec": {
   "display_name": "base",
   "language": "python",
   "name": "python3"
  },
  "language_info": {
   "codemirror_mode": {
    "name": "ipython",
    "version": 3
   },
   "file_extension": ".py",
   "mimetype": "text/x-python",
   "name": "python",
   "nbconvert_exporter": "python",
   "pygments_lexer": "ipython3",
   "version": "3.11.7"
  }
 },
 "nbformat": 4,
 "nbformat_minor": 2
}
