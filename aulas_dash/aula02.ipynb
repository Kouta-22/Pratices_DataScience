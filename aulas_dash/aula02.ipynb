{
 "cells": [
  {
   "cell_type": "markdown",
   "metadata": {},
   "source": [
    "# Callback\n",
    "- no Dash um callback é uma função que conecta componentes da interface do usuario (UI) com a logica da aplicação. Os callbacks são usados para criar interatividade, permitindo que a interface responda a eventos, como cliques de botões, seleções de menus suspensos, alterações de entrada de texto entre outros\n",
    "\n",
    "__Logica:__\n",
    "- Entrada(Input): Os componentes que desencadeiam o callback quando seu estado muda EX:(um botão é clicado)\n",
    "- Saida(Output): Os componentes que são atualizados como resultado da função callback\n",
    "- Função callback: A função Python que define a lógica para atualizar a saida com base na entrada."
   ]
  },
  {
   "cell_type": "code",
   "execution_count": 1,
   "metadata": {},
   "outputs": [],
   "source": [
    "#!pip install pandas_datareader"
   ]
  },
  {
   "cell_type": "code",
   "execution_count": 2,
   "metadata": {},
   "outputs": [
    {
     "name": "stderr",
     "output_type": "stream",
     "text": [
      "C:\\Users\\Guilherme\\AppData\\Local\\Temp\\ipykernel_18800\\715095563.py:6: UserWarning: \n",
      "The dash_core_components package is deprecated. Please replace\n",
      "`import dash_core_components as dcc` with `from dash import dcc`\n",
      "  import dash_core_components as dcc\n",
      "C:\\Users\\Guilherme\\AppData\\Local\\Temp\\ipykernel_18800\\715095563.py:7: UserWarning: \n",
      "The dash_html_components package is deprecated. Please replace\n",
      "`import dash_html_components as html` with `from dash import html`\n",
      "  import dash_html_components as html\n"
     ]
    }
   ],
   "source": [
    "#Imports\n",
    "import pandas as pd\n",
    "import plotly.express as px\n",
    "\n",
    "import dash\n",
    "import dash_core_components as dcc\n",
    "import dash_html_components as html\n",
    "from dash.dependencies import Input, Output, State\n",
    "import pandas_datareader.data as web\n",
    "import datetime"
   ]
  },
  {
   "cell_type": "code",
   "execution_count": 3,
   "metadata": {},
   "outputs": [
    {
     "name": "stderr",
     "output_type": "stream",
     "text": [
      "C:\\Users\\Guilherme\\AppData\\Local\\Temp\\ipykernel_18800\\2023831232.py:5: FutureWarning: The behavior of array concatenation with empty entries is deprecated. In a future version, this will no longer exclude empty items when determining the result dtype. To retain the old behavior, exclude the empty entries before the concat operation.\n",
      "  df = web.DataReader(['SVAC','JNJ','PFE','MRNA','BNTX'],\n"
     ]
    }
   ],
   "source": [
    "# https://stooq.com/\n",
    "start = datetime.datetime(2019, 1, 1)\n",
    "end = datetime.datetime(2021, 2, 15)\n",
    "\n",
    "df = web.DataReader(['SVAC','JNJ','PFE','MRNA','BNTX'],\n",
    "                    'stooq', start=start, end=end)\n",
    "\n",
    "df = df.stack().reset_index()\n",
    "\n",
    "cores = [\"black\", \"red\", \"blue\", \"orange\"]\n"
   ]
  },
  {
   "cell_type": "code",
   "execution_count": 4,
   "metadata": {},
   "outputs": [
    {
     "data": {
      "text/html": [
       "<div>\n",
       "<style scoped>\n",
       "    .dataframe tbody tr th:only-of-type {\n",
       "        vertical-align: middle;\n",
       "    }\n",
       "\n",
       "    .dataframe tbody tr th {\n",
       "        vertical-align: top;\n",
       "    }\n",
       "\n",
       "    .dataframe thead th {\n",
       "        text-align: right;\n",
       "    }\n",
       "</style>\n",
       "<table border=\"1\" class=\"dataframe\">\n",
       "  <thead>\n",
       "    <tr style=\"text-align: right;\">\n",
       "      <th>Attributes</th>\n",
       "      <th>level_0</th>\n",
       "      <th>Symbols</th>\n",
       "      <th>Close</th>\n",
       "      <th>High</th>\n",
       "      <th>Low</th>\n",
       "      <th>Open</th>\n",
       "      <th>Volume</th>\n",
       "    </tr>\n",
       "  </thead>\n",
       "  <tbody>\n",
       "    <tr>\n",
       "      <th>0</th>\n",
       "      <td>2019-01-02</td>\n",
       "      <td>JNJ</td>\n",
       "      <td>114.9620</td>\n",
       "      <td>115.5310</td>\n",
       "      <td>113.6470</td>\n",
       "      <td>115.3150</td>\n",
       "      <td>8.480359e+06</td>\n",
       "    </tr>\n",
       "    <tr>\n",
       "      <th>1</th>\n",
       "      <td>2019-01-02</td>\n",
       "      <td>PFE</td>\n",
       "      <td>37.3441</td>\n",
       "      <td>37.5599</td>\n",
       "      <td>36.8123</td>\n",
       "      <td>37.2319</td>\n",
       "      <td>2.904233e+07</td>\n",
       "    </tr>\n",
       "    <tr>\n",
       "      <th>2</th>\n",
       "      <td>2019-01-02</td>\n",
       "      <td>MRNA</td>\n",
       "      <td>15.3300</td>\n",
       "      <td>15.4500</td>\n",
       "      <td>14.5100</td>\n",
       "      <td>14.9300</td>\n",
       "      <td>2.318094e+06</td>\n",
       "    </tr>\n",
       "    <tr>\n",
       "      <th>3</th>\n",
       "      <td>2019-01-03</td>\n",
       "      <td>JNJ</td>\n",
       "      <td>113.1380</td>\n",
       "      <td>115.4320</td>\n",
       "      <td>112.8140</td>\n",
       "      <td>115.3150</td>\n",
       "      <td>9.617137e+06</td>\n",
       "    </tr>\n",
       "    <tr>\n",
       "      <th>4</th>\n",
       "      <td>2019-01-03</td>\n",
       "      <td>PFE</td>\n",
       "      <td>36.2979</td>\n",
       "      <td>37.4203</td>\n",
       "      <td>36.2209</td>\n",
       "      <td>37.3343</td>\n",
       "      <td>3.132042e+07</td>\n",
       "    </tr>\n",
       "  </tbody>\n",
       "</table>\n",
       "</div>"
      ],
      "text/plain": [
       "Attributes    level_0 Symbols     Close      High       Low      Open  \\\n",
       "0          2019-01-02     JNJ  114.9620  115.5310  113.6470  115.3150   \n",
       "1          2019-01-02     PFE   37.3441   37.5599   36.8123   37.2319   \n",
       "2          2019-01-02    MRNA   15.3300   15.4500   14.5100   14.9300   \n",
       "3          2019-01-03     JNJ  113.1380  115.4320  112.8140  115.3150   \n",
       "4          2019-01-03     PFE   36.2979   37.4203   36.2209   37.3343   \n",
       "\n",
       "Attributes        Volume  \n",
       "0           8.480359e+06  \n",
       "1           2.904233e+07  \n",
       "2           2.318094e+06  \n",
       "3           9.617137e+06  \n",
       "4           3.132042e+07  "
      ]
     },
     "execution_count": 4,
     "metadata": {},
     "output_type": "execute_result"
    }
   ],
   "source": [
    "df.head()"
   ]
  },
  {
   "cell_type": "code",
   "execution_count": 5,
   "metadata": {},
   "outputs": [],
   "source": [
    "app1 = dash.Dash(__name__)\n",
    "\n",
    "app1.layout = html.Div(\n",
    "    children=[\n",
    "    #Dash component\n",
    "    html.H1(id = 'output-titulo', children='Valor de Ação covid-19', style={}),\n",
    "\n",
    "    dcc.Dropdown(id='meu-dropdown', multi=True,\n",
    "                options=[{'label': x , 'value': x} for x in sorted(df.Symbols.unique())],\n",
    "                value=['SVAC','JNJ','PFE','MRNA','BNTX'],\n",
    "                style={'text-align':'center'}\n",
    "                ),\n",
    "                \n",
    "                html.Br(),\n",
    "\n",
    "                dcc.Graph(id='grafico-output', figure={}),\n",
    "\n",
    "                dcc.RadioItems(id='cores-id',value='black',options=[{'label': c,'value':c} for c in cores]),\n",
    "    ]\n",
    ")\n",
    "\n",
    "\n",
    "\n",
    "\n"
   ]
  },
  {
   "cell_type": "markdown",
   "metadata": {},
   "source": [
    "__Trabalhando o callback__"
   ]
  },
  {
   "cell_type": "code",
   "execution_count": 6,
   "metadata": {},
   "outputs": [],
   "source": [
    "@app1.callback(\n",
    "    [Output('grafico-output', 'figure'), Output('output-titulo', 'style')],\n",
    "    [Input(component_id='cores-id', component_property='value'),\n",
    "    Input(component_id='meu-dropdown', component_property='value')],\n",
    "    prevent_initial_call=False # True : Não ativa o callback quando a pagina é atualizada\n",
    ")\n",
    "\n",
    "def muda_grafico(cor_escolhida, acao_escolhida):\n",
    "\n",
    "    if len(acao_escolhida) == 0:\n",
    "        return dash.no_update, {\"color\": cor_escolhida} # faz update em somente um componente quando a página é atualizada - nesse caso a cor e nao o grafico\n",
    "    else:\n",
    "        df_copy = df[df[\"Symbols\"].isin(acao_escolhida)]\n",
    "        fig = px.line(df_copy, x='level_0', y='Close', color = 'Symbols')\n",
    "\n",
    "\n",
    "    return fig, {\"color\": cor_escolhida, 'text-align': 'center' }\n",
    "\n",
    "\n"
   ]
  },
  {
   "cell_type": "code",
   "execution_count": 7,
   "metadata": {},
   "outputs": [
    {
     "data": {
      "text/html": [
       "\n",
       "        <iframe\n",
       "            width=\"100%\"\n",
       "            height=\"650\"\n",
       "            src=\"http://127.0.0.1:2/\"\n",
       "            frameborder=\"0\"\n",
       "            allowfullscreen\n",
       "            \n",
       "        ></iframe>\n",
       "        "
      ],
      "text/plain": [
       "<IPython.lib.display.IFrame at 0x2288c0147d0>"
      ]
     },
     "metadata": {},
     "output_type": "display_data"
    }
   ],
   "source": [
    "if __name__ == \"__main__\":\n",
    "    app1.run_server(debug=True, port=2, use_reloader=False)"
   ]
  },
  {
   "cell_type": "code",
   "execution_count": 8,
   "metadata": {},
   "outputs": [
    {
     "data": {
      "text/html": [
       "<div>\n",
       "<style scoped>\n",
       "    .dataframe tbody tr th:only-of-type {\n",
       "        vertical-align: middle;\n",
       "    }\n",
       "\n",
       "    .dataframe tbody tr th {\n",
       "        vertical-align: top;\n",
       "    }\n",
       "\n",
       "    .dataframe thead th {\n",
       "        text-align: right;\n",
       "    }\n",
       "</style>\n",
       "<table border=\"1\" class=\"dataframe\">\n",
       "  <thead>\n",
       "    <tr style=\"text-align: right;\">\n",
       "      <th>Attributes</th>\n",
       "      <th>level_0</th>\n",
       "      <th>Symbols</th>\n",
       "      <th>Close</th>\n",
       "      <th>High</th>\n",
       "      <th>Low</th>\n",
       "      <th>Open</th>\n",
       "      <th>Volume</th>\n",
       "    </tr>\n",
       "  </thead>\n",
       "  <tbody>\n",
       "    <tr>\n",
       "      <th>0</th>\n",
       "      <td>2019-01-02</td>\n",
       "      <td>JNJ</td>\n",
       "      <td>114.9620</td>\n",
       "      <td>115.5310</td>\n",
       "      <td>113.6470</td>\n",
       "      <td>115.3150</td>\n",
       "      <td>8.480359e+06</td>\n",
       "    </tr>\n",
       "    <tr>\n",
       "      <th>1</th>\n",
       "      <td>2019-01-02</td>\n",
       "      <td>PFE</td>\n",
       "      <td>37.3441</td>\n",
       "      <td>37.5599</td>\n",
       "      <td>36.8123</td>\n",
       "      <td>37.2319</td>\n",
       "      <td>2.904233e+07</td>\n",
       "    </tr>\n",
       "    <tr>\n",
       "      <th>2</th>\n",
       "      <td>2019-01-02</td>\n",
       "      <td>MRNA</td>\n",
       "      <td>15.3300</td>\n",
       "      <td>15.4500</td>\n",
       "      <td>14.5100</td>\n",
       "      <td>14.9300</td>\n",
       "      <td>2.318094e+06</td>\n",
       "    </tr>\n",
       "    <tr>\n",
       "      <th>3</th>\n",
       "      <td>2019-01-03</td>\n",
       "      <td>JNJ</td>\n",
       "      <td>113.1380</td>\n",
       "      <td>115.4320</td>\n",
       "      <td>112.8140</td>\n",
       "      <td>115.3150</td>\n",
       "      <td>9.617137e+06</td>\n",
       "    </tr>\n",
       "    <tr>\n",
       "      <th>4</th>\n",
       "      <td>2019-01-03</td>\n",
       "      <td>PFE</td>\n",
       "      <td>36.2979</td>\n",
       "      <td>37.4203</td>\n",
       "      <td>36.2209</td>\n",
       "      <td>37.3343</td>\n",
       "      <td>3.132042e+07</td>\n",
       "    </tr>\n",
       "  </tbody>\n",
       "</table>\n",
       "</div>"
      ],
      "text/plain": [
       "Attributes    level_0 Symbols     Close      High       Low      Open  \\\n",
       "0          2019-01-02     JNJ  114.9620  115.5310  113.6470  115.3150   \n",
       "1          2019-01-02     PFE   37.3441   37.5599   36.8123   37.2319   \n",
       "2          2019-01-02    MRNA   15.3300   15.4500   14.5100   14.9300   \n",
       "3          2019-01-03     JNJ  113.1380  115.4320  112.8140  115.3150   \n",
       "4          2019-01-03     PFE   36.2979   37.4203   36.2209   37.3343   \n",
       "\n",
       "Attributes        Volume  \n",
       "0           8.480359e+06  \n",
       "1           2.904233e+07  \n",
       "2           2.318094e+06  \n",
       "3           9.617137e+06  \n",
       "4           3.132042e+07  "
      ]
     },
     "execution_count": 8,
     "metadata": {},
     "output_type": "execute_result"
    }
   ],
   "source": [
    "df.head()"
   ]
  },
  {
   "cell_type": "code",
   "execution_count": null,
   "metadata": {},
   "outputs": [],
   "source": []
  }
 ],
 "metadata": {
  "kernelspec": {
   "display_name": "base",
   "language": "python",
   "name": "python3"
  },
  "language_info": {
   "codemirror_mode": {
    "name": "ipython",
    "version": 3
   },
   "file_extension": ".py",
   "mimetype": "text/x-python",
   "name": "python",
   "nbconvert_exporter": "python",
   "pygments_lexer": "ipython3",
   "version": "3.11.7"
  }
 },
 "nbformat": 4,
 "nbformat_minor": 2
}
