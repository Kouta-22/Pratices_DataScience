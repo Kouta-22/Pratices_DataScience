{
 "cells": [
  {
   "cell_type": "markdown",
   "metadata": {},
   "source": [
    "# Dash Bootstrap"
   ]
  },
  {
   "cell_type": "code",
   "execution_count": 1,
   "metadata": {},
   "outputs": [],
   "source": [
    "import dash\n",
    "from dash import dcc, html ,Input, Output\n",
    "import plotly.express as px\n",
    "import pandas as pd\n",
    "import pandas_datareader as web\n",
    "import datetime"
   ]
  },
  {
   "cell_type": "code",
   "execution_count": 2,
   "metadata": {},
   "outputs": [
    {
     "name": "stdout",
     "output_type": "stream",
     "text": [
      "Collecting dash_bootstrap_components\n",
      "  Downloading dash_bootstrap_components-1.6.0-py3-none-any.whl.metadata (5.2 kB)\n",
      "Requirement already satisfied: dash>=2.0.0 in c:\\users\\guilherme\\anaconda3\\lib\\site-packages (from dash_bootstrap_components) (2.17.0)\n",
      "Requirement already satisfied: Flask<3.1,>=1.0.4 in c:\\users\\guilherme\\anaconda3\\lib\\site-packages (from dash>=2.0.0->dash_bootstrap_components) (2.2.5)\n",
      "Requirement already satisfied: Werkzeug<3.1 in c:\\users\\guilherme\\anaconda3\\lib\\site-packages (from dash>=2.0.0->dash_bootstrap_components) (2.2.3)\n",
      "Requirement already satisfied: plotly>=5.0.0 in c:\\users\\guilherme\\anaconda3\\lib\\site-packages (from dash>=2.0.0->dash_bootstrap_components) (5.22.0)\n",
      "Requirement already satisfied: dash-html-components==2.0.0 in c:\\users\\guilherme\\anaconda3\\lib\\site-packages (from dash>=2.0.0->dash_bootstrap_components) (2.0.0)\n",
      "Requirement already satisfied: dash-core-components==2.0.0 in c:\\users\\guilherme\\anaconda3\\lib\\site-packages (from dash>=2.0.0->dash_bootstrap_components) (2.0.0)\n",
      "Requirement already satisfied: dash-table==5.0.0 in c:\\users\\guilherme\\anaconda3\\lib\\site-packages (from dash>=2.0.0->dash_bootstrap_components) (5.0.0)\n",
      "Requirement already satisfied: importlib-metadata in c:\\users\\guilherme\\anaconda3\\lib\\site-packages (from dash>=2.0.0->dash_bootstrap_components) (7.0.1)\n",
      "Requirement already satisfied: typing-extensions>=4.1.1 in c:\\users\\guilherme\\anaconda3\\lib\\site-packages (from dash>=2.0.0->dash_bootstrap_components) (4.10.0)\n",
      "Requirement already satisfied: requests in c:\\users\\guilherme\\anaconda3\\lib\\site-packages (from dash>=2.0.0->dash_bootstrap_components) (2.31.0)\n",
      "Requirement already satisfied: retrying in c:\\users\\guilherme\\anaconda3\\lib\\site-packages (from dash>=2.0.0->dash_bootstrap_components) (1.3.4)\n",
      "Requirement already satisfied: nest-asyncio in c:\\users\\guilherme\\anaconda3\\lib\\site-packages (from dash>=2.0.0->dash_bootstrap_components) (1.6.0)\n",
      "Requirement already satisfied: setuptools in c:\\users\\guilherme\\anaconda3\\lib\\site-packages (from dash>=2.0.0->dash_bootstrap_components) (68.2.2)\n",
      "Requirement already satisfied: Jinja2>=3.0 in c:\\users\\guilherme\\anaconda3\\lib\\site-packages (from Flask<3.1,>=1.0.4->dash>=2.0.0->dash_bootstrap_components) (3.1.3)\n",
      "Requirement already satisfied: itsdangerous>=2.0 in c:\\users\\guilherme\\anaconda3\\lib\\site-packages (from Flask<3.1,>=1.0.4->dash>=2.0.0->dash_bootstrap_components) (2.0.1)\n",
      "Requirement already satisfied: click>=8.0 in c:\\users\\guilherme\\anaconda3\\lib\\site-packages (from Flask<3.1,>=1.0.4->dash>=2.0.0->dash_bootstrap_components) (8.1.7)\n",
      "Requirement already satisfied: tenacity>=6.2.0 in c:\\users\\guilherme\\anaconda3\\lib\\site-packages (from plotly>=5.0.0->dash>=2.0.0->dash_bootstrap_components) (8.2.2)\n",
      "Requirement already satisfied: packaging in c:\\users\\guilherme\\anaconda3\\lib\\site-packages (from plotly>=5.0.0->dash>=2.0.0->dash_bootstrap_components) (23.1)\n",
      "Requirement already satisfied: MarkupSafe>=2.1.1 in c:\\users\\guilherme\\anaconda3\\lib\\site-packages (from Werkzeug<3.1->dash>=2.0.0->dash_bootstrap_components) (2.1.3)\n",
      "Requirement already satisfied: zipp>=0.5 in c:\\users\\guilherme\\anaconda3\\lib\\site-packages (from importlib-metadata->dash>=2.0.0->dash_bootstrap_components) (3.17.0)\n",
      "Requirement already satisfied: charset-normalizer<4,>=2 in c:\\users\\guilherme\\anaconda3\\lib\\site-packages (from requests->dash>=2.0.0->dash_bootstrap_components) (2.0.4)\n",
      "Requirement already satisfied: idna<4,>=2.5 in c:\\users\\guilherme\\anaconda3\\lib\\site-packages (from requests->dash>=2.0.0->dash_bootstrap_components) (3.4)\n",
      "Requirement already satisfied: urllib3<3,>=1.21.1 in c:\\users\\guilherme\\anaconda3\\lib\\site-packages (from requests->dash>=2.0.0->dash_bootstrap_components) (2.0.7)\n",
      "Requirement already satisfied: certifi>=2017.4.17 in c:\\users\\guilherme\\anaconda3\\lib\\site-packages (from requests->dash>=2.0.0->dash_bootstrap_components) (2024.2.2)\n",
      "Requirement already satisfied: six>=1.7.0 in c:\\users\\guilherme\\anaconda3\\lib\\site-packages (from retrying->dash>=2.0.0->dash_bootstrap_components) (1.16.0)\n",
      "Requirement already satisfied: colorama in c:\\users\\guilherme\\anaconda3\\lib\\site-packages (from click>=8.0->Flask<3.1,>=1.0.4->dash>=2.0.0->dash_bootstrap_components) (0.4.6)\n",
      "Downloading dash_bootstrap_components-1.6.0-py3-none-any.whl (222 kB)\n",
      "   ---------------------------------------- 0.0/222.5 kB ? eta -:--:--\n",
      "   ---------------------------------------- 0.0/222.5 kB ? eta -:--:--\n",
      "   --- ----------------------------------- 20.5/222.5 kB 682.7 kB/s eta 0:00:01\n",
      "   ------- ------------------------------- 41.0/222.5 kB 393.8 kB/s eta 0:00:01\n",
      "   ------------------- ------------------ 112.6/222.5 kB 819.2 kB/s eta 0:00:01\n",
      "   ---------------------------------- ----- 194.6/222.5 kB 1.2 MB/s eta 0:00:01\n",
      "   -------------------------------------- - 215.0/222.5 kB 1.2 MB/s eta 0:00:01\n",
      "   -------------------------------------- - 215.0/222.5 kB 1.2 MB/s eta 0:00:01\n",
      "   -------------------------------------- 222.5/222.5 kB 755.5 kB/s eta 0:00:00\n",
      "Installing collected packages: dash_bootstrap_components\n",
      "Successfully installed dash_bootstrap_components-1.6.0\n"
     ]
    }
   ],
   "source": [
    "#!pip install dash_bootstrap_components"
   ]
  },
  {
   "cell_type": "code",
   "execution_count": 3,
   "metadata": {},
   "outputs": [],
   "source": [
    "import dash_bootstrap_components as dbc"
   ]
  },
  {
   "cell_type": "code",
   "execution_count": 5,
   "metadata": {},
   "outputs": [
    {
     "name": "stderr",
     "output_type": "stream",
     "text": [
      "C:\\Users\\Guilherme\\AppData\\Local\\Temp\\ipykernel_13236\\2901577379.py:4: FutureWarning:\n",
      "\n",
      "The behavior of array concatenation with empty entries is deprecated. In a future version, this will no longer exclude empty items when determining the result dtype. To retain the old behavior, exclude the empty entries before the concat operation.\n",
      "\n"
     ]
    }
   ],
   "source": [
    "start = datetime.datetime(2024,1,1)\n",
    "end = datetime.datetime(2024,12,3)\n",
    "\n",
    "df = web.DataReader(['AMZN','GOOGLE','FB','PFE','MRNA','BNTX'],\n",
    "                    'stooq', start=start,end=end)\n",
    "\n",
    "df = df.stack().reset_index()"
   ]
  },
  {
   "cell_type": "code",
   "execution_count": 7,
   "metadata": {},
   "outputs": [],
   "source": [
    "app = dash.Dash(__name__,external_stylesheets=[dbc.themes.SOLAR],\n",
    "                #para gerar responsividade - mobile\n",
    "                meta_tags=[{'name':'viewport',\n",
    "                            'content':'width=device-width, initial-scale=1.0'}])\n"
   ]
  },
  {
   "cell_type": "code",
   "execution_count": 8,
   "metadata": {},
   "outputs": [
    {
     "data": {
      "text/html": [
       "\n",
       "        <iframe\n",
       "            width=\"100%\"\n",
       "            height=\"650\"\n",
       "            src=\"http://127.0.0.1:8080/\"\n",
       "            frameborder=\"0\"\n",
       "            allowfullscreen\n",
       "            \n",
       "        ></iframe>\n",
       "        "
      ],
      "text/plain": [
       "<IPython.lib.display.IFrame at 0x2328efae1d0>"
      ]
     },
     "metadata": {},
     "output_type": "display_data"
    }
   ],
   "source": [
    "app.layout = dbc.Container([\n",
    "    dbc.Row([\n",
    "        dbc.Col(html.H1(\"Stock Market Dashboard\",\n",
    "                        className='text-center text-primary, mb-4'),\n",
    "                        width = 12)\n",
    "    ]),\n",
    "    dbc.Row([\n",
    "\n",
    "    ]),\n",
    "\n",
    "    dbc.Row([\n",
    "\n",
    "    ]),\n",
    "\n",
    "])\n",
    "\n",
    "if __name__ == '__main__':\n",
    "    app.run_server(debug=True,port=8080,use_reloader=False)"
   ]
  },
  {
   "cell_type": "code",
   "execution_count": null,
   "metadata": {},
   "outputs": [],
   "source": []
  }
 ],
 "metadata": {
  "kernelspec": {
   "display_name": "base",
   "language": "python",
   "name": "python3"
  },
  "language_info": {
   "codemirror_mode": {
    "name": "ipython",
    "version": 3
   },
   "file_extension": ".py",
   "mimetype": "text/x-python",
   "name": "python",
   "nbconvert_exporter": "python",
   "pygments_lexer": "ipython3",
   "version": "3.11.7"
  }
 },
 "nbformat": 4,
 "nbformat_minor": 2
}
