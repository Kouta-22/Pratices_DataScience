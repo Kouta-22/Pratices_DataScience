{
 "cells": [
  {
   "cell_type": "code",
   "execution_count": 9,
   "id": "dc46ef21-e882-4d82-a264-8e8aa8805677",
   "metadata": {},
   "outputs": [],
   "source": [
    "file2 = open('resultados.txt','w')"
   ]
  },
  {
   "cell_type": "code",
   "execution_count": 10,
   "id": "af1df7e0-cab8-431d-97e8-078fc93792f1",
   "metadata": {},
   "outputs": [
    {
     "data": {
      "text/plain": [
       "12"
      ]
     },
     "execution_count": 10,
     "metadata": {},
     "output_type": "execute_result"
    }
   ],
   "source": [
    "file2.write(\"Data Science pratices\")\n",
    "file2.write(\"Escreva algo\")"
   ]
  },
  {
   "cell_type": "code",
   "execution_count": 11,
   "id": "d6ed00c0-ffb6-4ec9-b9fd-3cd53ebc61b4",
   "metadata": {},
   "outputs": [],
   "source": [
    "file2.close()#fechar o arquivo com metodo close"
   ]
  },
  {
   "cell_type": "code",
   "execution_count": 12,
   "id": "b90b389b-fa8b-4dc2-bf2d-bb0e0816d92f",
   "metadata": {},
   "outputs": [
    {
     "ename": "ValueError",
     "evalue": "I/O operation on closed file.",
     "output_type": "error",
     "traceback": [
      "\u001b[1;31m---------------------------------------------------------------------------\u001b[0m",
      "\u001b[1;31mValueError\u001b[0m                                Traceback (most recent call last)",
      "Cell \u001b[1;32mIn[12], line 1\u001b[0m\n\u001b[1;32m----> 1\u001b[0m file2\u001b[38;5;241m.\u001b[39mread()\n",
      "\u001b[1;31mValueError\u001b[0m: I/O operation on closed file."
     ]
    }
   ],
   "source": [
    "file2.read()"
   ]
  },
  {
   "cell_type": "code",
   "execution_count": null,
   "id": "bd2e8cdc-3041-4a05-8468-7f38d70cac6e",
   "metadata": {},
   "outputs": [],
   "source": []
  }
 ],
 "metadata": {
  "kernelspec": {
   "display_name": "Python 3 (ipykernel)",
   "language": "python",
   "name": "python3"
  },
  "language_info": {
   "codemirror_mode": {
    "name": "ipython",
    "version": 3
   },
   "file_extension": ".py",
   "mimetype": "text/x-python",
   "name": "python",
   "nbconvert_exporter": "python",
   "pygments_lexer": "ipython3",
   "version": "3.11.7"
  }
 },
 "nbformat": 4,
 "nbformat_minor": 5
}
